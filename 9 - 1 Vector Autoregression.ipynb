{
 "cells": [
  {
   "cell_type": "markdown",
   "metadata": {},
   "source": [
    "# Vector Autoregression (VAR)\n",
    "\n",
    "### VAR with 1 lag - VAR(1)\n",
    "- 2+ series that think are correlated\n",
    "- end up with a vector model equation\n",
    "\n",
    "Very similar to an AR(1) model\n",
    "- difference is have a vector and a matrix\n",
    "\n",
    "### VAR with Multiple lags - VAR(K)\n",
    "Little more complicated\n",
    "Y depends on more parameters and coeffs\n",
    "VAR(K): K lags\n",
    "j # of series\n",
    "\n",
    "\n",
    "\n"
   ]
  }
 ],
 "metadata": {
  "kernelspec": {
   "display_name": "Python 3.10.2 64-bit",
   "language": "python",
   "name": "python3"
  },
  "language_info": {
   "name": "python",
   "version": "3.10.2"
  },
  "orig_nbformat": 4,
  "vscode": {
   "interpreter": {
    "hash": "2fc6efb3340bf4aae142c4471c3414bb5b17e6e80ba42a259676c40f0503db89"
   }
  }
 },
 "nbformat": 4,
 "nbformat_minor": 2
}
