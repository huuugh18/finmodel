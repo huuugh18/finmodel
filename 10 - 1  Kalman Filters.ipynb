{
 "cells": [
  {
   "cell_type": "markdown",
   "metadata": {},
   "source": [
    "# Kalman Filters\n",
    "\n",
    "Kalman filters balance out two sources of information:\n",
    "- One we get from the model\n",
    "- One we get from measurements  \n",
    "\n",
    "Both are innacurate:  \n",
    "- one suffers from measurement uncertainty\n",
    "- other model or process uncertainty  \n",
    "\n",
    "``` Model(K) + Measurement(1-K) ```  \n",
    "Depnding on choice of K, weight information between the two sources  \n",
    "**K = Kalman gain**  \n",
    "If indifferent to two, then K = 0.5 -- If  think model better then choose higher K and vice versa  \n",
    "\n",
    "If have a state vector of length n => transition matrix size = n*n\n",
    "\n",
    "\n",
    "## 10.2 Kalman Filter Example\n",
    "\n",
    "alpha = 0 means take whole calculation and ignore the measurement  \n",
    "In general the Kalman filter model is represented as:  \n",
    "``` S(k+1) = A *Sk + B ```\n",
    "\n",
    "\n",
    "## 10.10 Implementing Kalman in Python\n",
    "\n",
    "Write 2 functions:\n",
    "1. Kalman_step: does one step of all 5 equations\n",
    "2. Kalman_multi: calls kalman_step multiple times  \n",
    "\n",
    "### Single Step\n",
    "\n",
    "``` def kalman_step (F,Q,R,state_covariance,H, observation, state_estimate): ```\n",
    "- **F** is the state transition matrix\n",
    "- **Q** is Process noise\n",
    "- **State_covariance (P)**: the covariance of the uncertainty\n",
    "- **H is the Observation Matrix**: takes us from states space to observation\n",
    "- **Observation:** measurement used in the second phase of the step\n",
    "- **State_estimate** is our best guess at the state coming into the step\n",
    "\n",
    "\n",
    "#### Equation 1\n",
    "``` predicted_state = F @ state_estimate ```  \n",
    "\n",
    "#### Equation 2\n",
    "``` predicted_covar = F @ state_covar @ F.T + Q ``` \n",
    "\n",
    "#### Equation 3  \n",
    "``` prefit_covar = H @ predicted_covar @ H.T + r ```  \n",
    "``` kalman_gain = (predicted_covar @ np.transpose(H)) @ np.linalg.inv(prefit_covar) ``` \n",
    "\n",
    "#### Equation 4  \n",
    "``` predicted_observation = H @ predicted_state ```  \n",
    "``` prefit_residual = observation - predicted_observation ```   \n",
    "``` state_estimate = predicted_state + kalman_gain @ prefit_residual ```  \n",
    "\n",
    "#### Equation 5\n",
    "``` state_covar = (np.identity(len(state_estimate)) - kalman_gain @ H) @ predicted_covariance ``` \n",
    "\n",
    "#### What is returned??\n",
    "State estimate and state covariance  \n",
    "Need them for next step calculation\n",
    "\n",
    "\n",
    "\n",
    "\n"
   ]
  },
  {
   "cell_type": "code",
   "execution_count": 3,
   "metadata": {},
   "outputs": [],
   "source": [
    "import numpy as np\n",
    "def kalman_step (F, Q, R, state_covariance, H, state_estimate,observation):\n",
    "    predicted_state = F @ state_estimate\n",
    "    predicted_covariance = F @ state_covariance @ F.T + Q\n",
    "    predicted_observation = H @ predicted_state\n",
    "\n",
    "    print('predicted_observation', predicted_observation )\n",
    "\n",
    "    prefit_residual = observation - predicted_observation\n",
    "\n",
    "    prefit_covariance = H @ predicted_covariance @ H.T + R\n",
    "    kalman_gain = (predicted_covariance @ np.transpose(H)) @ np.linalg.inv(prefit_covariance)\n",
    "    state_estimate = predicted_state + kalman_gain @ prefit_residual\n",
    "    state_covariance = (np.identity(len(state_estimate)) - kalman_gain @ H) @ predicted_covariance\n",
    "    return (state_estimate, state_covariance)"
   ]
  },
  {
   "cell_type": "markdown",
   "metadata": {},
   "source": [
    "### Multi-Step Calculation"
   ]
  },
  {
   "cell_type": "code",
   "execution_count": null,
   "metadata": {},
   "outputs": [],
   "source": [
    "def kalman_multi(F,Q,R, state_covar, H, state_estimate, observations):\n",
    "    for i in range (len(observations)):\n",
    "        (state_estimate, state_covar) = kalman_step(F, Q, R, state_covar, H, state_estimate, observations[i])\n",
    "        print('state after: ', i, 'is ', state_estimate)\n",
    "    return"
   ]
  },
  {
   "cell_type": "code",
   "execution_count": 5,
   "metadata": {},
   "outputs": [],
   "source": [
    "state_0 = np.array([100, 10])\n",
    "state = state_0.reshape(-1,1)\n",
    "F = np.matrix ('1 2; 0 1')\n",
    "Q = np.matrix ('1 1; 1 1')\n",
    "R = 2\n",
    "P = np.matrix ('1 0; 0 1')\n",
    "H = np.matrix ('1 ,0')"
   ]
  },
  {
   "cell_type": "code",
   "execution_count": 6,
   "metadata": {},
   "outputs": [
    {
     "name": "stdout",
     "output_type": "stream",
     "text": [
      "predicted_observation [[120]]\n"
     ]
    },
    {
     "data": {
      "text/plain": [
       "(matrix([[123.75 ],\n",
       "         [ 11.875]]),\n",
       " matrix([[1.5  , 0.75 ],\n",
       "         [0.75 , 0.875]]))"
      ]
     },
     "execution_count": 6,
     "metadata": {},
     "output_type": "execute_result"
    }
   ],
   "source": [
    "observation = [[125]]\n",
    "\n",
    "kalman_step(F,Q,R,P,H, state, observation)"
   ]
  },
  {
   "cell_type": "code",
   "execution_count": 9,
   "metadata": {},
   "outputs": [
    {
     "name": "stdout",
     "output_type": "stream",
     "text": [
      "predicted_observation [[120]]\n",
      "state after:  0 is  [[123.75 ]\n",
      " [ 11.875]]\n",
      "predicted_observation [[147.5]]\n",
      "state after:  1 is  [[143.81818182]\n",
      " [ 10.44318182]]\n",
      "predicted_observation [[164.70454545]]\n",
      "state after:  2 is  [[164.13777778]\n",
      " [ 10.22555556]]\n",
      "predicted_observation [[184.58888889]]\n",
      "state after:  3 is  [[184.11521739]\n",
      " [ 10.04184783]]\n",
      "()\n"
     ]
    }
   ],
   "source": [
    "observations = [[125],[143],[164], [184]]\n",
    "print(kalman_multi (F,Q,R,P,H, state, observations))"
   ]
  }
 ],
 "metadata": {
  "kernelspec": {
   "display_name": "Python 3.10.2 64-bit",
   "language": "python",
   "name": "python3"
  },
  "language_info": {
   "codemirror_mode": {
    "name": "ipython",
    "version": 3
   },
   "file_extension": ".py",
   "mimetype": "text/x-python",
   "name": "python",
   "nbconvert_exporter": "python",
   "pygments_lexer": "ipython3",
   "version": "3.10.2"
  },
  "orig_nbformat": 4,
  "vscode": {
   "interpreter": {
    "hash": "2fc6efb3340bf4aae142c4471c3414bb5b17e6e80ba42a259676c40f0503db89"
   }
  }
 },
 "nbformat": 4,
 "nbformat_minor": 2
}
