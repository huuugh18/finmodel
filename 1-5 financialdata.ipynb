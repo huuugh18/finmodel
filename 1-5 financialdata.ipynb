{
 "cells": [
  {
   "cell_type": "code",
   "execution_count": 2,
   "metadata": {},
   "outputs": [],
   "source": [
    "import yfinance as yf"
   ]
  },
  {
   "cell_type": "code",
   "execution_count": 3,
   "metadata": {},
   "outputs": [],
   "source": [
    "snow_ticker = yf.Ticker('SNOW')"
   ]
  },
  {
   "cell_type": "code",
   "execution_count": 5,
   "metadata": {},
   "outputs": [
    {
     "data": {
      "text/plain": [
       "yfinance.ticker.Ticker"
      ]
     },
     "execution_count": 5,
     "metadata": {},
     "output_type": "execute_result"
    }
   ],
   "source": [
    "type(snow_ticker)"
   ]
  },
  {
   "cell_type": "markdown",
   "metadata": {},
   "source": [
    "### Get info about the stock in a json format"
   ]
  },
  {
   "cell_type": "code",
   "execution_count": 6,
   "metadata": {},
   "outputs": [
    {
     "data": {
      "text/plain": [
       "{'zip': '59715',\n",
       " 'sector': 'Technology',\n",
       " 'fullTimeEmployees': 3992,\n",
       " 'longBusinessSummary': \"Snowflake Inc. provides a cloud-based data platform in the United States and internationally. The company's platform offers Data Cloud, which enables customers to consolidate data into a single source of truth to drive meaningful business insights, build data-driven applications, and share data. Its platform is used by various organizations of sizes in a range of industries. The company was formerly known as Snowflake Computing, Inc. and changed its name to Snowflake Inc. in April 2019. Snowflake Inc. was incorporated in 2012 and is based in Bozeman, Montana.\",\n",
       " 'city': 'Bozeman',\n",
       " 'phone': '844 766 9355',\n",
       " 'state': 'MT',\n",
       " 'country': 'United States',\n",
       " 'companyOfficers': [],\n",
       " 'website': 'https://www.snowflake.com',\n",
       " 'maxAge': 1,\n",
       " 'address1': '106 East Babcock Street',\n",
       " 'industry': 'Software—Application',\n",
       " 'address2': 'Suite 3A',\n",
       " 'ebitdaMargins': -0.56879,\n",
       " 'profitMargins': -0.55764,\n",
       " 'grossMargins': 0.62403,\n",
       " 'operatingCashflow': 110179000,\n",
       " 'revenueGrowth': 1.015,\n",
       " 'operatingMargins': -0.58642,\n",
       " 'ebitda': -693537984,\n",
       " 'targetLowPrice': 190,\n",
       " 'recommendationKey': 'buy',\n",
       " 'grossProfits': 760894000,\n",
       " 'freeCashflow': 412660512,\n",
       " 'targetMedianPrice': 319,\n",
       " 'currentPrice': 201.895,\n",
       " 'earningsGrowth': None,\n",
       " 'currentRatio': 3.292,\n",
       " 'returnOnAssets': -0.071100004,\n",
       " 'numberOfAnalystOpinions': 30,\n",
       " 'targetMeanPrice': 318.69,\n",
       " 'debtToEquity': 4.086,\n",
       " 'returnOnEquity': -0.13619,\n",
       " 'targetHighPrice': 575,\n",
       " 'totalCash': 3852092928,\n",
       " 'totalDebt': 206296992,\n",
       " 'totalRevenue': 1219326976,\n",
       " 'totalCashPerShare': 12.244,\n",
       " 'financialCurrency': 'USD',\n",
       " 'revenuePerShare': 4.061,\n",
       " 'quickRatio': 3.158,\n",
       " 'recommendationMean': 2.2,\n",
       " 'exchange': 'NYQ',\n",
       " 'shortName': 'Snowflake Inc.',\n",
       " 'longName': 'Snowflake Inc.',\n",
       " 'exchangeTimezoneName': 'America/New_York',\n",
       " 'exchangeTimezoneShortName': 'EDT',\n",
       " 'isEsgPopulated': False,\n",
       " 'gmtOffSetMilliseconds': '-14400000',\n",
       " 'quoteType': 'EQUITY',\n",
       " 'symbol': 'SNOW',\n",
       " 'messageBoardId': 'finmb_275004592',\n",
       " 'market': 'us_market',\n",
       " 'annualHoldingsTurnover': None,\n",
       " 'enterpriseToRevenue': 46.649,\n",
       " 'beta3Year': None,\n",
       " 'enterpriseToEbitda': -82.014,\n",
       " '52WeekChange': -0.14576858,\n",
       " 'morningStarRiskRating': None,\n",
       " 'forwardEps': 0.38,\n",
       " 'revenueQuarterlyGrowth': None,\n",
       " 'sharesOutstanding': 314600000,\n",
       " 'fundInceptionDate': None,\n",
       " 'annualReportExpenseRatio': None,\n",
       " 'totalAssets': None,\n",
       " 'bookValue': 16.163,\n",
       " 'sharesShort': 7411679,\n",
       " 'sharesPercentSharesOut': 0.023599999,\n",
       " 'fundFamily': None,\n",
       " 'lastFiscalYearEnd': 1643587200,\n",
       " 'heldPercentInstitutions': 0.68022,\n",
       " 'netIncomeToCommon': -679948032,\n",
       " 'trailingEps': -2.264,\n",
       " 'lastDividendValue': None,\n",
       " 'SandP52WeekChange': 0.06209278,\n",
       " 'priceToBook': 12.491183,\n",
       " 'heldPercentInsiders': 0.105909996,\n",
       " 'nextFiscalYearEnd': 1706659200,\n",
       " 'yield': None,\n",
       " 'mostRecentQuarter': 1643587200,\n",
       " 'shortRatio': 0.91,\n",
       " 'sharesShortPreviousMonthDate': 1646006400,\n",
       " 'floatShares': 218064990,\n",
       " 'beta': None,\n",
       " 'enterpriseValue': 56880099328,\n",
       " 'priceHint': 2,\n",
       " 'threeYearAverageReturn': None,\n",
       " 'lastSplitDate': None,\n",
       " 'lastSplitFactor': None,\n",
       " 'legalType': None,\n",
       " 'lastDividendDate': None,\n",
       " 'morningStarOverallRating': None,\n",
       " 'earningsQuarterlyGrowth': None,\n",
       " 'priceToSalesTrailing12Months': 52.09117,\n",
       " 'dateShortInterest': 1648684800,\n",
       " 'pegRatio': 4.2,\n",
       " 'ytdReturn': None,\n",
       " 'forwardPE': 531.3027,\n",
       " 'lastCapGain': None,\n",
       " 'shortPercentOfFloat': 0.031600002,\n",
       " 'sharesShortPriorMonth': 5089982,\n",
       " 'impliedSharesOutstanding': 0,\n",
       " 'category': None,\n",
       " 'fiveYearAverageReturn': None,\n",
       " 'previousClose': 192.39,\n",
       " 'regularMarketOpen': 193.84,\n",
       " 'twoHundredDayAverage': 293.28006,\n",
       " 'trailingAnnualDividendYield': 0,\n",
       " 'payoutRatio': 0,\n",
       " 'volume24Hr': None,\n",
       " 'regularMarketDayHigh': 202.49,\n",
       " 'navPrice': None,\n",
       " 'averageDailyVolume10Day': 5126280,\n",
       " 'regularMarketPreviousClose': 192.39,\n",
       " 'fiftyDayAverage': 237.2334,\n",
       " 'trailingAnnualDividendRate': 0,\n",
       " 'open': 193.84,\n",
       " 'toCurrency': None,\n",
       " 'averageVolume10days': 5126280,\n",
       " 'expireDate': None,\n",
       " 'algorithm': None,\n",
       " 'dividendRate': None,\n",
       " 'exDividendDate': None,\n",
       " 'circulatingSupply': None,\n",
       " 'startDate': None,\n",
       " 'regularMarketDayLow': 190.098,\n",
       " 'currency': 'USD',\n",
       " 'regularMarketVolume': 1987686,\n",
       " 'lastMarket': None,\n",
       " 'maxSupply': None,\n",
       " 'openInterest': None,\n",
       " 'marketCap': 63516168192,\n",
       " 'volumeAllCurrencies': None,\n",
       " 'strikePrice': None,\n",
       " 'averageVolume': 5886124,\n",
       " 'dayLow': 190.098,\n",
       " 'ask': 197.63,\n",
       " 'askSize': 900,\n",
       " 'volume': 1987686,\n",
       " 'fiftyTwoWeekHigh': 405,\n",
       " 'fromCurrency': None,\n",
       " 'fiveYearAvgDividendYield': None,\n",
       " 'fiftyTwoWeekLow': 164.29,\n",
       " 'bid': 197.4,\n",
       " 'tradeable': False,\n",
       " 'dividendYield': None,\n",
       " 'bidSize': 1000,\n",
       " 'dayHigh': 202.49,\n",
       " 'regularMarketPrice': 201.895,\n",
       " 'preMarketPrice': 193.9,\n",
       " 'logo_url': 'https://logo.clearbit.com/snowflake.com',\n",
       " 'trailingPegRatio': 7.5267}"
      ]
     },
     "execution_count": 6,
     "metadata": {},
     "output_type": "execute_result"
    }
   ],
   "source": [
    "snow_ticker.info\n"
   ]
  },
  {
   "cell_type": "markdown",
   "metadata": {},
   "source": [
    "### Get Stock recommendations"
   ]
  },
  {
   "cell_type": "code",
   "execution_count": 7,
   "metadata": {},
   "outputs": [
    {
     "data": {
      "text/html": [
       "<div>\n",
       "<style scoped>\n",
       "    .dataframe tbody tr th:only-of-type {\n",
       "        vertical-align: middle;\n",
       "    }\n",
       "\n",
       "    .dataframe tbody tr th {\n",
       "        vertical-align: top;\n",
       "    }\n",
       "\n",
       "    .dataframe thead th {\n",
       "        text-align: right;\n",
       "    }\n",
       "</style>\n",
       "<table border=\"1\" class=\"dataframe\">\n",
       "  <thead>\n",
       "    <tr style=\"text-align: right;\">\n",
       "      <th></th>\n",
       "      <th>Firm</th>\n",
       "      <th>To Grade</th>\n",
       "      <th>From Grade</th>\n",
       "      <th>Action</th>\n",
       "    </tr>\n",
       "    <tr>\n",
       "      <th>Date</th>\n",
       "      <th></th>\n",
       "      <th></th>\n",
       "      <th></th>\n",
       "      <th></th>\n",
       "    </tr>\n",
       "  </thead>\n",
       "  <tbody>\n",
       "    <tr>\n",
       "      <th>2020-09-21 11:10:54</th>\n",
       "      <td>Summit Insights Group</td>\n",
       "      <td>Sell</td>\n",
       "      <td></td>\n",
       "      <td>init</td>\n",
       "    </tr>\n",
       "    <tr>\n",
       "      <th>2020-10-01 11:05:53</th>\n",
       "      <td>Jefferies</td>\n",
       "      <td>Hold</td>\n",
       "      <td></td>\n",
       "      <td>init</td>\n",
       "    </tr>\n",
       "    <tr>\n",
       "      <th>2020-10-02 09:39:58</th>\n",
       "      <td>Bernstein</td>\n",
       "      <td>Market Perform</td>\n",
       "      <td></td>\n",
       "      <td>init</td>\n",
       "    </tr>\n",
       "    <tr>\n",
       "      <th>2020-10-08 10:21:38</th>\n",
       "      <td>Atlantic Equities</td>\n",
       "      <td>Underweight</td>\n",
       "      <td></td>\n",
       "      <td>init</td>\n",
       "    </tr>\n",
       "    <tr>\n",
       "      <th>2020-10-12 09:08:18</th>\n",
       "      <td>JP Morgan</td>\n",
       "      <td>Neutral</td>\n",
       "      <td></td>\n",
       "      <td>init</td>\n",
       "    </tr>\n",
       "    <tr>\n",
       "      <th>...</th>\n",
       "      <td>...</td>\n",
       "      <td>...</td>\n",
       "      <td>...</td>\n",
       "      <td>...</td>\n",
       "    </tr>\n",
       "    <tr>\n",
       "      <th>2022-03-03 14:19:22</th>\n",
       "      <td>Cowen &amp; Co.</td>\n",
       "      <td>Outperform</td>\n",
       "      <td></td>\n",
       "      <td>main</td>\n",
       "    </tr>\n",
       "    <tr>\n",
       "      <th>2022-03-24 12:30:15</th>\n",
       "      <td>Truist Securities</td>\n",
       "      <td>Buy</td>\n",
       "      <td></td>\n",
       "      <td>main</td>\n",
       "    </tr>\n",
       "    <tr>\n",
       "      <th>2022-03-31 10:16:18</th>\n",
       "      <td>Atlantic Equities</td>\n",
       "      <td>Neutral</td>\n",
       "      <td></td>\n",
       "      <td>init</td>\n",
       "    </tr>\n",
       "    <tr>\n",
       "      <th>2022-04-01 13:34:21</th>\n",
       "      <td>SMBC Nikko</td>\n",
       "      <td>Neutral</td>\n",
       "      <td></td>\n",
       "      <td>init</td>\n",
       "    </tr>\n",
       "    <tr>\n",
       "      <th>2022-04-14 13:23:38</th>\n",
       "      <td>Goldman Sachs</td>\n",
       "      <td>Buy</td>\n",
       "      <td></td>\n",
       "      <td>main</td>\n",
       "    </tr>\n",
       "  </tbody>\n",
       "</table>\n",
       "<p>81 rows × 4 columns</p>\n",
       "</div>"
      ],
      "text/plain": [
       "                                      Firm        To Grade From Grade Action\n",
       "Date                                                                        \n",
       "2020-09-21 11:10:54  Summit Insights Group            Sell              init\n",
       "2020-10-01 11:05:53              Jefferies            Hold              init\n",
       "2020-10-02 09:39:58              Bernstein  Market Perform              init\n",
       "2020-10-08 10:21:38      Atlantic Equities     Underweight              init\n",
       "2020-10-12 09:08:18              JP Morgan         Neutral              init\n",
       "...                                    ...             ...        ...    ...\n",
       "2022-03-03 14:19:22            Cowen & Co.      Outperform              main\n",
       "2022-03-24 12:30:15      Truist Securities             Buy              main\n",
       "2022-03-31 10:16:18      Atlantic Equities         Neutral              init\n",
       "2022-04-01 13:34:21             SMBC Nikko         Neutral              init\n",
       "2022-04-14 13:23:38          Goldman Sachs             Buy              main\n",
       "\n",
       "[81 rows x 4 columns]"
      ]
     },
     "execution_count": 7,
     "metadata": {},
     "output_type": "execute_result"
    }
   ],
   "source": [
    "snow_ticker.recommendations"
   ]
  },
  {
   "cell_type": "markdown",
   "metadata": {},
   "source": [
    "### Create a dataframe of the history with a start date and end date"
   ]
  },
  {
   "cell_type": "code",
   "execution_count": 8,
   "metadata": {},
   "outputs": [],
   "source": [
    "snow_df = snow_ticker.history(start='2021-01-01', end='2021-12-31')"
   ]
  },
  {
   "cell_type": "code",
   "execution_count": 9,
   "metadata": {},
   "outputs": [
    {
     "data": {
      "text/plain": [
       "pandas.core.frame.DataFrame"
      ]
     },
     "execution_count": 9,
     "metadata": {},
     "output_type": "execute_result"
    }
   ],
   "source": [
    "type(snow_df)"
   ]
  },
  {
   "cell_type": "code",
   "execution_count": 10,
   "metadata": {},
   "outputs": [
    {
     "data": {
      "text/html": [
       "<div>\n",
       "<style scoped>\n",
       "    .dataframe tbody tr th:only-of-type {\n",
       "        vertical-align: middle;\n",
       "    }\n",
       "\n",
       "    .dataframe tbody tr th {\n",
       "        vertical-align: top;\n",
       "    }\n",
       "\n",
       "    .dataframe thead th {\n",
       "        text-align: right;\n",
       "    }\n",
       "</style>\n",
       "<table border=\"1\" class=\"dataframe\">\n",
       "  <thead>\n",
       "    <tr style=\"text-align: right;\">\n",
       "      <th></th>\n",
       "      <th>Open</th>\n",
       "      <th>High</th>\n",
       "      <th>Low</th>\n",
       "      <th>Close</th>\n",
       "      <th>Volume</th>\n",
       "      <th>Dividends</th>\n",
       "      <th>Stock Splits</th>\n",
       "    </tr>\n",
       "    <tr>\n",
       "      <th>Date</th>\n",
       "      <th></th>\n",
       "      <th></th>\n",
       "      <th></th>\n",
       "      <th></th>\n",
       "      <th></th>\n",
       "      <th></th>\n",
       "      <th></th>\n",
       "    </tr>\n",
       "  </thead>\n",
       "  <tbody>\n",
       "    <tr>\n",
       "      <th>2021-01-04</th>\n",
       "      <td>285.410004</td>\n",
       "      <td>290.799988</td>\n",
       "      <td>274.440002</td>\n",
       "      <td>278.239990</td>\n",
       "      <td>3948500</td>\n",
       "      <td>0</td>\n",
       "      <td>0</td>\n",
       "    </tr>\n",
       "    <tr>\n",
       "      <th>2021-01-05</th>\n",
       "      <td>280.619995</td>\n",
       "      <td>293.489990</td>\n",
       "      <td>279.299988</td>\n",
       "      <td>283.829987</td>\n",
       "      <td>5202600</td>\n",
       "      <td>0</td>\n",
       "      <td>0</td>\n",
       "    </tr>\n",
       "    <tr>\n",
       "      <th>2021-01-06</th>\n",
       "      <td>279.989990</td>\n",
       "      <td>283.639008</td>\n",
       "      <td>266.410004</td>\n",
       "      <td>268.019989</td>\n",
       "      <td>5736800</td>\n",
       "      <td>0</td>\n",
       "      <td>0</td>\n",
       "    </tr>\n",
       "    <tr>\n",
       "      <th>2021-01-07</th>\n",
       "      <td>272.589996</td>\n",
       "      <td>304.899994</td>\n",
       "      <td>267.700012</td>\n",
       "      <td>304.200012</td>\n",
       "      <td>16546600</td>\n",
       "      <td>0</td>\n",
       "      <td>0</td>\n",
       "    </tr>\n",
       "    <tr>\n",
       "      <th>2021-01-08</th>\n",
       "      <td>315.000000</td>\n",
       "      <td>325.720001</td>\n",
       "      <td>298.000000</td>\n",
       "      <td>300.100006</td>\n",
       "      <td>9106800</td>\n",
       "      <td>0</td>\n",
       "      <td>0</td>\n",
       "    </tr>\n",
       "  </tbody>\n",
       "</table>\n",
       "</div>"
      ],
      "text/plain": [
       "                  Open        High         Low       Close    Volume  \\\n",
       "Date                                                                   \n",
       "2021-01-04  285.410004  290.799988  274.440002  278.239990   3948500   \n",
       "2021-01-05  280.619995  293.489990  279.299988  283.829987   5202600   \n",
       "2021-01-06  279.989990  283.639008  266.410004  268.019989   5736800   \n",
       "2021-01-07  272.589996  304.899994  267.700012  304.200012  16546600   \n",
       "2021-01-08  315.000000  325.720001  298.000000  300.100006   9106800   \n",
       "\n",
       "            Dividends  Stock Splits  \n",
       "Date                                 \n",
       "2021-01-04          0             0  \n",
       "2021-01-05          0             0  \n",
       "2021-01-06          0             0  \n",
       "2021-01-07          0             0  \n",
       "2021-01-08          0             0  "
      ]
     },
     "execution_count": 10,
     "metadata": {},
     "output_type": "execute_result"
    }
   ],
   "source": [
    "snow_df.head()"
   ]
  },
  {
   "cell_type": "code",
   "execution_count": 11,
   "metadata": {},
   "outputs": [
    {
     "data": {
      "text/plain": [
       "<AxesSubplot:xlabel='Date'>"
      ]
     },
     "execution_count": 11,
     "metadata": {},
     "output_type": "execute_result"
    },
    {
     "data": {
      "image/png": "[encoded data removed]",
      "text/plain": [
       "<Figure size 432x288 with 1 Axes>"
      ]
     },
     "metadata": {
      "needs_background": "light"
     },
     "output_type": "display_data"
    }
   ],
   "source": [
    "snow_df.plot()"
   ]
  },
  {
   "cell_type": "markdown",
   "metadata": {},
   "source": [
    "### Convert closing prices to a dataframe and plot"
   ]
  },
  {
   "cell_type": "code",
   "execution_count": 12,
   "metadata": {},
   "outputs": [],
   "source": [
    "snow_prices = snow_df['Close'].to_frame()"
   ]
  },
  {
   "cell_type": "code",
   "execution_count": 13,
   "metadata": {},
   "outputs": [
    {
     "data": {
      "text/plain": [
       "<AxesSubplot:xlabel='Date'>"
      ]
     },
     "execution_count": 13,
     "metadata": {},
     "output_type": "execute_result"
    },
    {
     "data": {
      "image/png": "[encoded data removed]",
      "text/plain": [
       "<Figure size 432x288 with 1 Axes>"
      ]
     },
     "metadata": {
      "needs_background": "light"
     },
     "output_type": "display_data"
    }
   ],
   "source": [
    "snow_prices.plot()"
   ]
  },
  {
   "cell_type": "code",
   "execution_count": null,
   "metadata": {},
   "outputs": [],
   "source": []
  }
 ],
 "metadata": {
  "interpreter": {
   "hash": "a3cdb1873534cd609246bbd207a2ef326bcefec1553623ed0fd533ce7964fc2c"
  },
  "kernelspec": {
   "display_name": "Python 3.10.2 64-bit",
   "language": "python",
   "name": "python3"
  },
  "language_info": {
   "codemirror_mode": {
    "name": "ipython",
    "version": 3
   },
   "file_extension": ".py",
   "mimetype": "text/x-python",
   "name": "python",
   "nbconvert_exporter": "python",
   "pygments_lexer": "ipython3",
   "version": "3.10.2"
  },
  "orig_nbformat": 4
 },
 "nbformat": 4,
 "nbformat_minor": 2
}
