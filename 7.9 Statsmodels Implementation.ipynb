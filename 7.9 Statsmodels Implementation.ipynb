{
 "cells": [
  {
   "cell_type": "markdown",
   "metadata": {},
   "source": [
    "## Doing it all with Statsmodels\n",
    "\n",
    "Find AR coefficients using PACF - use graph  \n",
    "Look at over or under boundary  \n",
    "\n",
    "Find MA coefficients using ACF - PACF not such a good source here  \n",
    "\n",
    "Use augmented dickey-fuller to decide how many diffs to do  \n"
   ]
  },
  {
   "cell_type": "code",
   "execution_count": 5,
   "metadata": {},
   "outputs": [],
   "source": [
    "import pandas as pd\n",
    "import math\n",
    "import numpy as np\n",
    "\n",
    "df = pd.read_csv('./data/CO2_monthly.csv')\n",
    "# series = jobs_df['Vacancies']\n",
    "\n",
    "def rmse(predicted, actual):\n",
    "    diffs = predicted - actual\n",
    "    return math.sqrt(np.mean(diffs ** 2))"
   ]
  },
  {
   "cell_type": "markdown",
   "metadata": {},
   "source": [
    "We are going to deploy an ARIMA model.   \n",
    "Start by computing the PACF and ACF to\n",
    "inform our choice of orders for the AR and MA components respectively.  \n",
    "\n",
    "First the ACF"
   ]
  },
  {
   "cell_type": "code",
   "execution_count": null,
   "metadata": {},
   "outputs": [],
   "source": [
    "CO2_df = df['Interpolated'].rename('Observed').to_frame()"
   ]
  },
  {
   "cell_type": "markdown",
   "metadata": {},
   "source": [
    "### ACF \n",
    "Next do the ACF function  \n",
    "\"To what extent does each value seem te be affected by the K value before it\"  \n",
    "\n"
   ]
  },
  {
   "cell_type": "code",
   "execution_count": 9,
   "metadata": {},
   "outputs": [
    {
     "data": {
      "image/png": "[encoded data removed]",
      "text/plain": [
       "<Figure size 432x288 with 1 Axes>"
      ]
     },
     "metadata": {
      "needs_background": "light"
     },
     "output_type": "display_data"
    }
   ],
   "source": [
    "from matplotlib import pyplot\n",
    "from statsmodels.graphics.tsaplots import plot_acf, plot_pacf\n",
    "\n",
    "plot_acf(CO2_df['Observed'])\n",
    "pyplot.show()"
   ]
  },
  {
   "cell_type": "markdown",
   "metadata": {},
   "source": [
    "Find don't get much useful information as its just always high  \n",
    "Partial ACF is much more complicated  \n",
    "\n",
    "If know the one 10 back affects you now, you know it affects the one 9 back, 8 back etc.  \n",
    "We want to mod all of that out - this is PACF  \n",
    "Trying to find the effect of the one 10 back, without the intervening effects\n",
    "\n",
    "### PACF"
   ]
  },
  {
   "cell_type": "code",
   "execution_count": 10,
   "metadata": {},
   "outputs": [
    {
     "name": "stderr",
     "output_type": "stream",
     "text": [
      "c:\\Users\\hugho\\AppData\\Local\\Programs\\Python\\Python310\\lib\\site-packages\\statsmodels\\graphics\\tsaplots.py:348: FutureWarning: The default method 'yw' can produce PACF values outside of the [-1,1] interval. After 0.13, the default will change tounadjusted Yule-Walker ('ywm'). You can use this method now by setting method='ywm'.\n",
      "  warnings.warn(\n"
     ]
    },
    {
     "data": {
      "image/png": "[encoded data removed]",
      "text/plain": [
       "<Figure size 432x288 with 1 Axes>"
      ]
     },
     "metadata": {
      "needs_background": "light"
     },
     "output_type": "display_data"
    }
   ],
   "source": [
    "plot_pacf(CO2_df['Observed'])\n",
    "pyplot.show()"
   ]
  },
  {
   "cell_type": "markdown",
   "metadata": {},
   "source": [
    "one, two definitely useful, three,I think is just about useful so does it look like 11, 12, 13.I guess that's because of the seasonality,but I'm going to ignore that and just use the one, two, three,I'm going to make this an AR3\n",
    "\n",
    "Need to decide about the I part now, use ADF"
   ]
  },
  {
   "cell_type": "code",
   "execution_count": 11,
   "metadata": {},
   "outputs": [
    {
     "name": "stdout",
     "output_type": "stream",
     "text": [
      "p-value: 1.000000\n"
     ]
    }
   ],
   "source": [
    "from statsmodels.tsa.stattools import adfuller\n",
    "\n",
    "result = adfuller(CO2_df['Observed'])\n",
    "print('p-value: %f' % result[1])"
   ]
  },
  {
   "cell_type": "markdown",
   "metadata": {},
   "source": [
    "p-value 1 so definitely not stationary - try the shift"
   ]
  },
  {
   "cell_type": "code",
   "execution_count": 13,
   "metadata": {},
   "outputs": [
    {
     "name": "stdout",
     "output_type": "stream",
     "text": [
      "p-value: 0.000006\n"
     ]
    }
   ],
   "source": [
    "X = (CO2_df['Observed'] - CO2_df['Observed'].shift()).dropna()\n",
    "result_shift = adfuller(X)\n",
    "print('p-value: %f' % result_shift[1])"
   ]
  },
  {
   "cell_type": "markdown",
   "metadata": {},
   "source": [
    "p-value < 0.05 so now stationary\n",
    "\n",
    "Because ACF seemed high, making MA bit high\n",
    "\n",
    "**Trend Parameter** telling you whether - default is trend equals C,which is a constant   \n",
    "trend equals N means there's no trend.  \n",
    "What that means is,when we look at the AR it's a matter of whether we're using what's biased or unbiased, the interpretation\n",
    "if you allow yourself to have to geta best line fit with going any place, there's a bias.You can get something like the Y intercept plus MX or something.This is in two dimensions, and that's called biased.The biased is that initial value where it meets the Y-axis.If on the other hand, you assume that you're lookingfor a line that goes through the origin, where it hits the Y-axis to zero,that's called unbiased and that's what we've done all along.That's why I've made the trend equals N.You actually get a better fit if you allow trend to be C,which is what would happen if I left this off\n",
    "\n"
   ]
  },
  {
   "cell_type": "code",
   "execution_count": 14,
   "metadata": {},
   "outputs": [
    {
     "name": "stdout",
     "output_type": "stream",
     "text": [
      "                               SARIMAX Results                                \n",
      "==============================================================================\n",
      "Dep. Variable:               Observed   No. Observations:                  727\n",
      "Model:                ARIMA(3, 1, 10)   Log Likelihood                -493.417\n",
      "Date:                Thu, 14 Jul 2022   AIC                           1014.834\n",
      "Time:                        13:23:54   BIC                           1079.060\n",
      "Sample:                             0   HQIC                          1039.619\n",
      "                                - 727                                         \n",
      "Covariance Type:                  opg                                         \n",
      "==============================================================================\n",
      "                 coef    std err          z      P>|z|      [0.025      0.975]\n",
      "------------------------------------------------------------------------------\n",
      "ar.L1          0.9166      0.215      4.272      0.000       0.496       1.337\n",
      "ar.L2          0.4089      0.371      1.102      0.270      -0.318       1.136\n",
      "ar.L3         -0.8121      0.214     -3.793      0.000      -1.232      -0.393\n",
      "ma.L1         -0.7575      0.219     -3.457      0.001      -1.187      -0.328\n",
      "ma.L2         -0.7442      0.331     -2.247      0.025      -1.393      -0.095\n",
      "ma.L3          0.5284      0.118      4.492      0.000       0.298       0.759\n",
      "ma.L4          0.4060      0.057      7.091      0.000       0.294       0.518\n",
      "ma.L5          0.4270      0.098      4.346      0.000       0.234       0.620\n",
      "ma.L6         -0.1690      0.072     -2.357      0.018      -0.310      -0.028\n",
      "ma.L7         -0.4949      0.085     -5.854      0.000      -0.661      -0.329\n",
      "ma.L8         -0.0388      0.070     -0.557      0.578      -0.175       0.098\n",
      "ma.L9          0.3391      0.047      7.171      0.000       0.246       0.432\n",
      "ma.L10         0.0717      0.066      1.092      0.275      -0.057       0.200\n",
      "sigma2         0.2247      0.013     17.889      0.000       0.200       0.249\n",
      "===================================================================================\n",
      "Ljung-Box (L1) (Q):                   4.38   Jarque-Bera (JB):                 2.87\n",
      "Prob(Q):                              0.04   Prob(JB):                         0.24\n",
      "Heteroskedasticity (H):               1.29   Skew:                             0.11\n",
      "Prob(H) (two-sided):                  0.05   Kurtosis:                         2.79\n",
      "===================================================================================\n",
      "\n",
      "Warnings:\n",
      "[1] Covariance matrix calculated using the outer product of gradients (complex-step).\n"
     ]
    },
    {
     "name": "stderr",
     "output_type": "stream",
     "text": [
      "c:\\Users\\hugho\\AppData\\Local\\Programs\\Python\\Python310\\lib\\site-packages\\statsmodels\\base\\model.py:604: ConvergenceWarning: Maximum Likelihood optimization failed to converge. Check mle_retvals\n",
      "  warnings.warn(\"Maximum Likelihood optimization failed to \"\n"
     ]
    }
   ],
   "source": [
    "import statsmodels.api as sm\n",
    "\n",
    "# AR(3) I(1) MA(10)\n",
    "model = sm.tsa.arima.ARIMA(CO2_df['Observed'], order=(3,1,10), trend='n')\n",
    "res = model.fit()\n",
    "print(res.summary())\n"
   ]
  },
  {
   "cell_type": "markdown",
   "metadata": {},
   "source": [
    "Make a prediction column using the model"
   ]
  },
  {
   "cell_type": "code",
   "execution_count": 16,
   "metadata": {},
   "outputs": [
    {
     "data": {
      "text/html": [
       "<div>\n",
       "<style scoped>\n",
       "    .dataframe tbody tr th:only-of-type {\n",
       "        vertical-align: middle;\n",
       "    }\n",
       "\n",
       "    .dataframe tbody tr th {\n",
       "        vertical-align: top;\n",
       "    }\n",
       "\n",
       "    .dataframe thead th {\n",
       "        text-align: right;\n",
       "    }\n",
       "</style>\n",
       "<table border=\"1\" class=\"dataframe\">\n",
       "  <thead>\n",
       "    <tr style=\"text-align: right;\">\n",
       "      <th></th>\n",
       "      <th>Observed</th>\n",
       "      <th>Prediction</th>\n",
       "    </tr>\n",
       "  </thead>\n",
       "  <tbody>\n",
       "    <tr>\n",
       "      <th>0</th>\n",
       "      <td>315.71</td>\n",
       "      <td>0.000000</td>\n",
       "    </tr>\n",
       "    <tr>\n",
       "      <th>1</th>\n",
       "      <td>317.45</td>\n",
       "      <td>315.710146</td>\n",
       "    </tr>\n",
       "    <tr>\n",
       "      <th>2</th>\n",
       "      <td>317.50</td>\n",
       "      <td>318.490910</td>\n",
       "    </tr>\n",
       "    <tr>\n",
       "      <th>3</th>\n",
       "      <td>317.10</td>\n",
       "      <td>317.047157</td>\n",
       "    </tr>\n",
       "    <tr>\n",
       "      <th>4</th>\n",
       "      <td>315.86</td>\n",
       "      <td>316.376554</td>\n",
       "    </tr>\n",
       "  </tbody>\n",
       "</table>\n",
       "</div>"
      ],
      "text/plain": [
       "   Observed  Prediction\n",
       "0    315.71    0.000000\n",
       "1    317.45  315.710146\n",
       "2    317.50  318.490910\n",
       "3    317.10  317.047157\n",
       "4    315.86  316.376554"
      ]
     },
     "execution_count": 16,
     "metadata": {},
     "output_type": "execute_result"
    }
   ],
   "source": [
    "CO2_df['Prediction'] = res.predict()\n",
    "CO2_df.head()"
   ]
  },
  {
   "cell_type": "code",
   "execution_count": 17,
   "metadata": {},
   "outputs": [
    {
     "data": {
      "text/plain": [
       "<AxesSubplot:>"
      ]
     },
     "execution_count": 17,
     "metadata": {},
     "output_type": "execute_result"
    },
    {
     "data": {
      "image/png": "[encoded data removed]",
      "text/plain": [
       "<Figure size 432x288 with 1 Axes>"
      ]
     },
     "metadata": {
      "needs_background": "light"
     },
     "output_type": "display_data"
    }
   ],
   "source": [
    "# Get rid of first 0 row\n",
    "CO2_df = CO2_df[1:]\n",
    "CO2_df.plot()"
   ]
  },
  {
   "cell_type": "code",
   "execution_count": 18,
   "metadata": {},
   "outputs": [
    {
     "name": "stdout",
     "output_type": "stream",
     "text": [
      "0.480701233047204\n"
     ]
    }
   ],
   "source": [
    "# calculate RMSE\n",
    "\n",
    "print(rmse(CO2_df['Observed'], CO2_df['Prediction']))"
   ]
  }
 ],
 "metadata": {
  "kernelspec": {
   "display_name": "Python 3.10.2 64-bit",
   "language": "python",
   "name": "python3"
  },
  "language_info": {
   "codemirror_mode": {
    "name": "ipython",
    "version": 3
   },
   "file_extension": ".py",
   "mimetype": "text/x-python",
   "name": "python",
   "nbconvert_exporter": "python",
   "pygments_lexer": "ipython3",
   "version": "3.10.2"
  },
  "orig_nbformat": 4,
  "vscode": {
   "interpreter": {
    "hash": "2fc6efb3340bf4aae142c4471c3414bb5b17e6e80ba42a259676c40f0503db89"
   }
  }
 },
 "nbformat": 4,
 "nbformat_minor": 2
}
