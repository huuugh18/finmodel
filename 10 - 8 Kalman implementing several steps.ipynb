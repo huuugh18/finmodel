{
 "cells": [
  {
   "cell_type": "markdown",
   "metadata": {
    "pycharm": {
     "name": "#%%\n"
    }
   },
   "source": [
    "\n",
    "\n",
    "\n",
    "## Implementation of the kalman filter and the plane position example\n",
    "\n",
    "\n",
    "\n",
    "\n"
   ]
  },
  {
   "cell_type": "code",
   "execution_count": 1,
   "metadata": {
    "pycharm": {
     "name": "#%%\n"
    }
   },
   "outputs": [],
   "source": [
    "import numpy as np\n",
    "\n",
    "\n",
    "def kalman_step (F,Q,R,state_covariance,H, state_estimate,observation):\n",
    "\n",
    "    predicted_state = F @ state_estimate\n",
    "    predicted_covariance = F @ state_covariance @ F.T + Q\n",
    "    prefit_residual = observation - H @ predicted_state\n",
    "    prefit_covariance = H @ predicted_covariance @ H.T + R\n",
    "    kalman_gain = (predicted_covariance @ np.transpose(H)) @ np.linalg.inv(prefit_covariance)\n",
    "    state_estimate = predicted_state + kalman_gain @ prefit_residual\n",
    "    state_covariance = (np.identity(len(state_estimate)) - kalman_gain @ H) @ state_covariance\n",
    "\n",
    "    return (state_estimate,   state_covariance)\n",
    "\n"
   ]
  },
  {
   "cell_type": "code",
   "execution_count": 2,
   "metadata": {
    "pycharm": {
     "name": "#%%\n"
    }
   },
   "outputs": [
    {
     "name": "stdout",
     "output_type": "stream",
     "text": [
      "(matrix([[123.75 ],\n",
      "        [ 11.875]]), matrix([[ 0.25 ,  0.   ],\n",
      "        [-0.375,  1.   ]]))\n"
     ]
    }
   ],
   "source": [
    "state_0 = np.array([100,  10])\n",
    "\n",
    "state = state_0.reshape(-1,1)\n",
    "\n",
    "F = np.matrix ('1 2; 0 1')\n",
    "\n",
    "Q = np.matrix ('1 1; 1 1')\n",
    "\n",
    "R = 2\n",
    "\n",
    "P = np.matrix ('1 0; 0 1')\n",
    "\n",
    "H = np.matrix ('1 ,0')\n",
    "\n",
    "observations = [[125]]\n",
    "\n",
    "\n",
    "print(kalman_step (F,Q,R,P,H, state, observations))"
   ]
  },
  {
   "cell_type": "code",
   "execution_count": 3,
   "metadata": {
    "pycharm": {
     "name": "#%%\n"
    }
   },
   "outputs": [],
   "source": [
    "\n",
    "\n",
    "def kalman_multi (F,Q,R,state_covariance,H, state_estimate, observations):\n",
    "    predictions = []\n",
    "    for i in range (len(observations)):\n",
    "        (state_estimate, state_covariance) = kalman_step(F,Q,R,state_covariance,H, state_estimate, observations[i])\n",
    "        predictions.append((H @ state_estimate))\n",
    "        print(' state after :', i, 'is',  state_estimate)\n",
    "    return ()\n",
    "\n"
   ]
  },
  {
   "cell_type": "code",
   "execution_count": 4,
   "metadata": {
    "pycharm": {
     "name": "#%%\n"
    }
   },
   "outputs": [
    {
     "name": "stdout",
     "output_type": "stream",
     "text": [
      " state after : 0 is [[123.75 ]\n",
      " [ 11.875]]\n",
      " state after : 1 is [[144.38461538]\n",
      " [ 10.05769231]]\n",
      " state after : 2 is [[164.16326531]\n",
      " [  9.85164835]]\n",
      " state after : 3 is [[183.95559318]\n",
      " [  9.90698679]]\n",
      "()\n"
     ]
    }
   ],
   "source": [
    "state_0 = np.array([100,  10])\n",
    "\n",
    "state = state_0.reshape(-1,1)\n",
    "\n",
    "F = np.matrix ('1 2; 0 1')\n",
    "\n",
    "Q = np.matrix ('1 1; 1 1')\n",
    "\n",
    "\n",
    "R = 2\n",
    "\n",
    "P = np.matrix ('1 0; 0 1')\n",
    "\n",
    "\n",
    "\n",
    "H = np.matrix ('1 ,0')\n",
    "\n",
    "\n",
    "observations = [[125],[143],[164], [184]]\n",
    "\n",
    "\n",
    "\n",
    "print(kalman_multi (F,Q,R,P,H, state, observations))"
   ]
  },
  {
   "cell_type": "code",
   "execution_count": null,
   "metadata": {
    "pycharm": {
     "name": "#%%\n"
    }
   },
   "outputs": [],
   "source": []
  }
 ],
 "metadata": {
  "kernelspec": {
   "display_name": "Python 3.10.2 64-bit",
   "language": "python",
   "name": "python3"
  },
  "language_info": {
   "codemirror_mode": {
    "name": "ipython",
    "version": 3
   },
   "file_extension": ".py",
   "mimetype": "text/x-python",
   "name": "python",
   "nbconvert_exporter": "python",
   "pygments_lexer": "ipython3",
   "version": "3.10.2"
  },
  "vscode": {
   "interpreter": {
    "hash": "2fc6efb3340bf4aae142c4471c3414bb5b17e6e80ba42a259676c40f0503db89"
   }
  }
 },
 "nbformat": 4,
 "nbformat_minor": 2
}
