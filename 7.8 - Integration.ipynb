{
 "cells": [
  {
   "cell_type": "code",
   "execution_count": 1,
   "metadata": {},
   "outputs": [],
   "source": [
    "import numpy as np\n",
    "import matplotlib\n",
    "import math\n",
    "import pandas as pd \n",
    "\n",
    "jobs_df = pd.read_csv('./data/UK_job_vacancies.csv')\n",
    "\n",
    "def rmse(predicted, actual):\n",
    "    diffs = predicted - actual\n",
    "    return math.sqrt(np.mean(diffs ** 2))\n",
    "\n",
    "def linear_regression(design_matrix, target_vector):\n",
    "    return np.linalg.inv(design_matrix.transpose() @ design_matrix) @ design_matrix.transpose() @ target_vector\n",
    "\n",
    "def train_ar(values, order):\n",
    "    target_vector = np.array(values[order:])\n",
    "    lagged_values = []\n",
    "    for i in range(len(values) - order):\n",
    "        lagged_values.append(values[i:i+order])\n",
    "    design_matrix = np.array(lagged_values)\n",
    "    return linear_regression(design_matrix, target_vector)"
   ]
  },
  {
   "cell_type": "code",
   "execution_count": 2,
   "metadata": {},
   "outputs": [
    {
     "name": "stdout",
     "output_type": "stream",
     "text": [
      "[ 0.04289748 -0.12204264 -0.13419879  0.60114682 -0.54379875 -0.29137531\n",
      "  1.05463138 -0.50054911 -1.13997554  2.03387541  0.          0.        ]\n",
      "step 19 : 9.107590717940694e+60\n",
      "[ 3.17344572e+02 -6.43771588e+02  1.73437306e+02  6.90726809e+02\n",
      " -3.25780348e+02 -1.67960576e+03  3.33672663e+03 -2.82343339e+03\n",
      "  9.59873640e+02 -3.63829133e+00  2.06873163e-56  1.18113673e-56]\n"
     ]
    }
   ],
   "source": [
    "\n",
    "\n",
    "# set AR deg to a larger magnitude - 20\n",
    "\n",
    "series = jobs_df['Vacancies']\n",
    "\n",
    "ar_deg = 10\n",
    "\n",
    "ma_deg = 2\n",
    "\n",
    "coef = np.append(train_ar(series, ar_deg), np.zeros(ma_deg))\n",
    "\n",
    "print(coef)\n",
    "# coef = [-0.0941, -0.1832, 1.2754, 0.5262, 0.7267] # coefs from statsmodels\n",
    "errors = [0.0] * len(series)\n",
    "\n",
    "for x in range(20):\n",
    "    design_matrix_rows = []\n",
    "    for i in range(max(ar_deg, ma_deg), len(series)):\n",
    "        values = np.append(series[i-ar_deg:i], errors[i-ma_deg:i])\n",
    "        pred = np.dot(values, coef)\n",
    "        design_matrix_rows.append(values)\n",
    "        errors[i] = series[i] - pred\n",
    "        \n",
    "    design_matrix = np.array(design_matrix_rows)\n",
    "    coef = linear_regression(design_matrix, series[max(ar_deg, ma_deg):])\n",
    "\n",
    "print(\"step\", x, \":\", math.sqrt(np.dot(errors, errors)/(len(errors) - max(ar_deg, ma_deg))))\n",
    "print(coef) # 12.0543\n",
    "# print(design_matrix)\n"
   ]
  }
 ],
 "metadata": {
  "kernelspec": {
   "display_name": "Python 3.10.2 64-bit",
   "language": "python",
   "name": "python3"
  },
  "language_info": {
   "codemirror_mode": {
    "name": "ipython",
    "version": 3
   },
   "file_extension": ".py",
   "mimetype": "text/x-python",
   "name": "python",
   "nbconvert_exporter": "python",
   "pygments_lexer": "ipython3",
   "version": "3.10.2"
  },
  "orig_nbformat": 4,
  "vscode": {
   "interpreter": {
    "hash": "2fc6efb3340bf4aae142c4471c3414bb5b17e6e80ba42a259676c40f0503db89"
   }
  }
 },
 "nbformat": 4,
 "nbformat_minor": 2
}
