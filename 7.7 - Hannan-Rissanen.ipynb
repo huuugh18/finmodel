{
 "cells": [
  {
   "cell_type": "markdown",
   "metadata": {},
   "source": [
    "# 7.7 Hannan-Rissanen\n",
    "\n",
    "Start the same way, linear regression to get the AR coeffs, but then going to count the AR and MA together as the same thing  \n",
    "Simpler algorithm the the previous one  \n",
    "\n",
    "**HR is an innovation regression method of ARMA madeling**\n",
    "\n"
   ]
  },
  {
   "cell_type": "code",
   "execution_count": 1,
   "metadata": {},
   "outputs": [],
   "source": [
    "import pandas as pd\n",
    "import numpy as np \n",
    "df = pd.read_csv('./data/UK_job_vacancies.csv')\n",
    "\n",
    "# Design matrix is X || Target vector is Y\n",
    "def linear_regression(design_matrix, target_vector):\n",
    "    return np.linalg.inv(design_matrix.transpose() @ design_matrix) @design_matrix.transpose() @ target_vector\n",
    "\n",
    "# Use the LR to get the AR coeffs - think that's just broken out of original train_ar formula used\n",
    "def train_ar(values, order):\n",
    "    target_vector = np.array(values[order:])\n",
    "    lagged_values = []\n",
    "    for i in range(len(values) - order):\n",
    "        lagged_values.append(values[i:i+order])\n",
    "    design_matrix = np.array(lagged_values)\n",
    "    return linear_regression(design_matrix, target_vector)"
   ]
  },
  {
   "cell_type": "code",
   "execution_count": 2,
   "metadata": {},
   "outputs": [],
   "source": [
    "series = df['Vacancies']\n",
    "ar_deg = 3\n",
    "ma_deg = 2\n"
   ]
  },
  {
   "cell_type": "markdown",
   "metadata": {},
   "source": [
    "Before kept the AR coeffs and the MA coeffs seperate, new we put them together\n",
    "\n",
    "Now we just use the above code to get the AR coeﬀicients. We will then put them together with\n",
    "some 0s that will be place-holders for MA coeﬀicients."
   ]
  },
  {
   "cell_type": "code",
   "execution_count": 3,
   "metadata": {},
   "outputs": [
    {
     "name": "stdout",
     "output_type": "stream",
     "text": [
      "Coefs: [ 0.34228651 -1.34176882  2.00015731  0.          0.        ]\n"
     ]
    }
   ],
   "source": [
    "# 3 AR coefs - 2 MA Coefs\n",
    "coef = np.append(train_ar(series, ar_deg), np.zeros(ma_deg))\n",
    "print('Coefs:', coef)"
   ]
  },
  {
   "cell_type": "markdown",
   "metadata": {},
   "source": [
    "Have the initial value for the AR coeﬀicients.   \n",
    "Now, as in the gradient descent method, we have an outer loop with x as our loop variable.   \n",
    "Each time we iterate that loop, we produce new coeﬀicients and new root mean square errors.  \n",
    "The coeﬀicients are computed by a liner regression\n",
    "\n",
    "Coefs comupted by a LR:  \n",
    "```coef = linear_regression(design_matrix, series[max(ar_deg, ma_deg):])```"
   ]
  },
  {
   "cell_type": "code",
   "execution_count": 4,
   "metadata": {},
   "outputs": [
    {
     "name": "stdout",
     "output_type": "stream",
     "text": [
      "step 0 : 13.340383927080804 [-0.29278315  0.60446485  0.69029285  0.88716733  1.30446452]\n",
      "step 10 : 12.04183649316871 [ 0.05999143 -0.3733167   1.31473426  0.70885985  0.73688165]\n",
      "step 20 : 12.054377492074284 [ 0.05959156 -0.37588319  1.3176913   0.70421973  0.73290753]\n",
      "step 30 : 12.054323451755405 [ 0.05973176 -0.37622555  1.3178933   0.7041793   0.73271694]\n",
      "step 40 : 12.054308706319706 [ 0.05973228 -0.37622322  1.31789046  0.70418429  0.732721  ]\n",
      "step 50 : 12.054308718307373 [ 0.05973213 -0.37622284  1.31789023  0.70418435  0.73272122]\n",
      "step 60 : 12.054308734288389 [ 0.05973212 -0.37622285  1.31789023  0.70418435  0.73272122]\n",
      "step 70 : 12.05430873433979 [ 0.05973212 -0.37622285  1.31789023  0.70418435  0.73272121]\n",
      "step 80 : 12.054308734325556 [ 0.05973212 -0.37622285  1.31789023  0.70418435  0.73272121]\n",
      "step 90 : 12.054308734305945 [ 0.05973212 -0.37622285  1.31789023  0.70418435  0.73272121]\n"
     ]
    }
   ],
   "source": [
    "errors = [0.0] * len(series)\n",
    "\n",
    "for x in range(100):\n",
    "\n",
    "    # Compute Design Matrix\n",
    "    design_matrix_rows = []\n",
    "\n",
    "    for i in range(max(ar_deg, ma_deg), len(series)):\n",
    "        # make values - take lags and errors\n",
    "        # 3 from series (AR(3)) and 2 from errors (MA(2))\n",
    "        values = np.append(series[i-ar_deg:i], errors[i-ma_deg:i])\n",
    "        \n",
    "        # predictor - dotting the beta coefs\n",
    "        # coefs for both AR and MA here, get linear combination\n",
    "        pred = np.dot(values, coef)\n",
    "\n",
    "        # add values to design matrix\n",
    "        design_matrix_rows.append(values)\n",
    "\n",
    "        # compute errors\n",
    "        errors[i] = series[i] - pred\n",
    "    \n",
    "    design_matrix = np.array(design_matrix_rows)\n",
    "\n",
    "    # get coefs using LR on design matrix and observed target values ('vacancies')\n",
    "    coef = linear_regression(design_matrix, series[max(ar_deg, ma_deg):])\n",
    "\n",
    "    # calculate RMSE\n",
    "    rmse = np.sqrt(np.dot(errors, errors)/(len(errors) - max(ar_deg, ma_deg)))\n",
    "\n",
    "    if (x % 10) == 0:\n",
    "        print(\"step\", x, \":\", rmse, coef)"
   ]
  },
  {
   "cell_type": "code",
   "execution_count": 5,
   "metadata": {},
   "outputs": [
    {
     "name": "stdout",
     "output_type": "stream",
     "text": [
      "[[567.         563.         553.           0.           0.        ]\n",
      " [563.         553.         552.           0.           1.15204979]\n",
      " [553.         552.         535.           1.15204979 -18.89749126]\n",
      " ...\n",
      " [568.         664.         762.          47.00296232   7.09816489]\n",
      " [664.         762.         846.           7.09816489  19.35204046]\n",
      " [762.         846.         915.          19.35204046  27.90647509]]\n"
     ]
    }
   ],
   "source": [
    "print(design_matrix)"
   ]
  },
  {
   "cell_type": "markdown",
   "metadata": {},
   "source": [
    "Each step gives RMSE, now below 13 where ARMA with GD was higher at 13 so this is better.  \n",
    "\n",
    "Then get the AR and MA coefs, can see they stabalize. \n",
    "\n",
    "**Linear regression on steroids**  \n",
    "Do LR, make design matrix, do LR, make design matrix and repeat\n",
    "\n",
    "*Usually HR models use bigger AR model for initial step*"
   ]
  },
  {
   "cell_type": "markdown",
   "metadata": {},
   "source": [
    "# 7.8 Hannen-Rissanen Diffs\n",
    "\n",
    "### Bringing in the \"I\" in ARIMA\n",
    "I stands for Integration, really about differences\n",
    "\n",
    "[Notes]('https://www.machinelearningplus.com/time-series/augmented-dickey-fuller-test/')"
   ]
  },
  {
   "cell_type": "code",
   "execution_count": 6,
   "metadata": {},
   "outputs": [
    {
     "name": "stdout",
     "output_type": "stream",
     "text": [
      "[ 0.04289748 -0.12204264 -0.13419879  0.60114682 -0.54379875 -0.29137531\n",
      "  1.05463138 -0.50054911 -1.13997554  2.03387541  0.          0.        ]\n",
      "step 19 : 9.107590717940694e+60\n",
      "[ 3.17344572e+02 -6.43771588e+02  1.73437306e+02  6.90726809e+02\n",
      " -3.25780348e+02 -1.67960576e+03  3.33672663e+03 -2.82343339e+03\n",
      "  9.59873640e+02 -3.63829133e+00  2.06873163e-56  1.18113673e-56]\n"
     ]
    }
   ],
   "source": [
    "import matplotlib\n",
    "import math\n",
    "\n",
    "jobs_df = pd.read_csv('./data/UK_job_vacancies.csv')\n",
    "\n",
    "# set AR deg to a larger magnitude - 20\n",
    "\n",
    "series = jobs_df['Vacancies']\n",
    "\n",
    "ar_deg = 10\n",
    "\n",
    "ma_deg = 2\n",
    "\n",
    "coef = np.append(train_ar(series, ar_deg), np.zeros(ma_deg))\n",
    "print(coef)\n",
    "# coef = [-0.0941, -0.1832, 1.2754, 0.5262, 0.7267] # coefs from statsmodels\n",
    "errors = [0.0] * len(series)\n",
    "\n",
    "for x in range(20):\n",
    "    design_matrix_rows = []\n",
    "    for i in range(max(ar_deg, ma_deg), len(series)):\n",
    "        values = np.append(series[i-ar_deg:i], errors[i-ma_deg:i])\n",
    "        pred = np.dot(values, coef)\n",
    "        design_matrix_rows.append(values)\n",
    "        errors[i] = series[i] - pred\n",
    "        \n",
    "    design_matrix = np.array(design_matrix_rows)\n",
    "    coef = linear_regression(design_matrix, series[max(ar_deg, ma_deg):])\n",
    "\n",
    "print(\"step\", x, \":\", math.sqrt(np.dot(errors, errors)/(len(errors) - max(ar_deg, ma_deg))))\n",
    "print(coef) # 12.0543\n"
   ]
  },
  {
   "cell_type": "markdown",
   "metadata": {},
   "source": [
    "Decide whether have something stationary or not  \n",
    "\n",
    "Will use standard algorithms in stats models. **Augmented Dickey-Fuller**"
   ]
  },
  {
   "cell_type": "code",
   "execution_count": 7,
   "metadata": {},
   "outputs": [
    {
     "name": "stdout",
     "output_type": "stream",
     "text": [
      "(-0.8721852659607139, 0.7969941749563074, 15, 228, {'1%': -3.4593607492757554, '5%': -2.8743015807562924, '10%': -2.5735714042782396}, 1783.501660881836)\n",
      "p-value 0.7969941749563074\n"
     ]
    }
   ],
   "source": [
    "from statsmodels.tsa.stattools import adfuller\n",
    "jobs_adf = adfuller(series)\n",
    "print(jobs_adf)\n",
    "print('p-value', jobs_adf[1])"
   ]
  },
  {
   "cell_type": "markdown",
   "metadata": {},
   "source": [
    "If p-value < 0.05 = stationary  \n",
    "If p-value > 0.05 = non-stationary\n",
    "\n",
    "P-value here is 0.79 so series is non-stationary  \n",
    "\n",
    "Now that established it's not stationary - now take the H-R diffs"
   ]
  },
  {
   "cell_type": "code",
   "execution_count": 8,
   "metadata": {},
   "outputs": [
    {
     "name": "stdout",
     "output_type": "stream",
     "text": [
      "p-value 0.0010897388496611759\n"
     ]
    }
   ],
   "source": [
    "diffs = (series - series.shift()).dropna().reset_index()['Vacancies']\n",
    "print('p-value', adfuller(diffs)[1])"
   ]
  },
  {
   "cell_type": "markdown",
   "metadata": {},
   "source": [
    "P-value < 0.05 so now have stationary data after taking diffs  \n",
    "\n",
    "Now do HR on the diffs"
   ]
  },
  {
   "cell_type": "code",
   "execution_count": 9,
   "metadata": {},
   "outputs": [
    {
     "name": "stdout",
     "output_type": "stream",
     "text": [
      "step 0 : 11.103606112877063\n",
      "step 10 : 11.083643627580475\n",
      "step 20 : 11.083535989361344\n",
      "step 30 : 11.083529332042765\n"
     ]
    }
   ],
   "source": [
    "ar_deg= 20\n",
    "ma_deg = 3\n",
    "coef = np.append(train_ar(diffs, ar_deg), np.zeros(ma_deg))\n",
    "\n",
    "for x in range(40):\n",
    "    design_matrix_rows = []\n",
    "    errors = np.zeros(len(diffs))\n",
    "\n",
    "    for i in range(max(ar_deg, ma_deg), len(diffs)):\n",
    "        values = np.append(diffs[i-ar_deg:i], errors[i-ma_deg:i])\n",
    "        pred = np.dot(values, coef)\n",
    "        design_matrix_rows.append(values)\n",
    "        errors[i] = diffs[i] - pred\n",
    "\n",
    "    design_matrix = np.array(design_matrix_rows)\n",
    "\n",
    "    coef = linear_regression(design_matrix, diffs[max(ar_deg, ma_deg):])\n",
    "    if (x % 10) == 0:\n",
    "        print(\"step\", x, \":\", math.sqrt(np.dot(errors, errors)/(len(errors) - max(ar_deg, ma_deg))))"
   ]
  }
 ],
 "metadata": {
  "kernelspec": {
   "display_name": "Python 3.10.2 64-bit",
   "language": "python",
   "name": "python3"
  },
  "language_info": {
   "codemirror_mode": {
    "name": "ipython",
    "version": 3
   },
   "file_extension": ".py",
   "mimetype": "text/x-python",
   "name": "python",
   "nbconvert_exporter": "python",
   "pygments_lexer": "ipython3",
   "version": "3.10.6"
  },
  "orig_nbformat": 4,
  "vscode": {
   "interpreter": {
    "hash": "2fc6efb3340bf4aae142c4471c3414bb5b17e6e80ba42a259676c40f0503db89"
   }
  }
 },
 "nbformat": 4,
 "nbformat_minor": 2
}
