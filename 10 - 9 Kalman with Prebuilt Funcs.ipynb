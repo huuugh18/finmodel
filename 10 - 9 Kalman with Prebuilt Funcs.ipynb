{
 "cells": [
  {
   "cell_type": "code",
   "execution_count": 2,
   "metadata": {},
   "outputs": [],
   "source": [
    "import numpy as np\n",
    "from filterpy.kalman import KalmanFilter"
   ]
  },
  {
   "cell_type": "markdown",
   "metadata": {},
   "source": [
    "call constructor with two parameters\n",
    "1. dimension of the state space (x)\n",
    "2. dimension of the observation space (z) (measurement)\n",
    "\n",
    "``` kf = KalmanFilter(dim_x=2, dim_z=1)```\n",
    "\n"
   ]
  },
  {
   "cell_type": "markdown",
   "metadata": {},
   "source": [
    "#### Attributes from the documentation\n",
    "\n",
    "[Docs Link](https://filterpy.readthedocs.io/en/latest/kalman/KalmanFilter.html)\n",
    "\n",
    "\n",
    "x : ndarray (dim_x, 1), default = [0,0,0…0]\n",
    "    filter state estimate  \n",
    "P : ndarray (dim_x, dim_x), default eye(dim_x)\n",
    "    covariance matrix  \n",
    "Q : ndarray (dim_x, dim_x), default eye(dim_x)\n",
    "    Process uncertainty/noise  \n",
    "R : ndarray (dim_z, dim_z), default eye(dim_x)\n",
    "    measurement uncertainty/noise  \n",
    "H : ndarray (dim_z, dim_x)\n",
    "    measurement function  \n",
    "F : ndarray (dim_x, dim_x)\n",
    "    state transistion matrix  \n",
    "B : ndarray (dim_x, dim_u), default 0\n",
    "    control transition matrix   \n",
    "\n",
    "### Plane Position Example"
   ]
  },
  {
   "cell_type": "code",
   "execution_count": 27,
   "metadata": {},
   "outputs": [],
   "source": [
    "# state = 2d (position and velocity)\n",
    "# observation = 1d (position)\n",
    "\n",
    "kf = KalmanFilter (dim_x=2, dim_z=1)"
   ]
  },
  {
   "cell_type": "code",
   "execution_count": 28,
   "metadata": {},
   "outputs": [],
   "source": [
    "# initial state column vector\n",
    "kf.x = np.array([100, 10])\n",
    "kf.F = np.array([[1,2],[0,1]])\n",
    "kf.Q = np.array([[1,1],[1,1]])\n",
    "kf.R = np.array([[2]])\n",
    "kf.P = np.array([[1,0],[0,1]])\n",
    "kf.H = np.array([[1,0]])"
   ]
  },
  {
   "cell_type": "markdown",
   "metadata": {},
   "source": [
    "#### one step of Kalman Filter\n",
    "observation = 125  \n",
    "Has seperate methods for the prediction and for the measurement phases  \n",
    "``` predict ``` and ``` update```  \n",
    "predict does not rely on an observation while update does\n"
   ]
  },
  {
   "cell_type": "code",
   "execution_count": 30,
   "metadata": {},
   "outputs": [
    {
     "name": "stdout",
     "output_type": "stream",
     "text": [
      "state :  [129.09090909   4.71590909]\n"
     ]
    }
   ],
   "source": [
    "z = 125\n",
    "kf.predict()\n",
    "kf.update(z)\n",
    "\n",
    "\n",
    "print('state : ', kf.x)\n"
   ]
  },
  {
   "cell_type": "markdown",
   "metadata": {},
   "source": [
    "#### Kalman Filter Code Examples\n",
    "[Link](https://www.programcreek.com/python/example/127786/filterpy.kalman.KalmanFilter)"
   ]
  }
 ],
 "metadata": {
  "kernelspec": {
   "display_name": "Python 3.10.2 64-bit",
   "language": "python",
   "name": "python3"
  },
  "language_info": {
   "codemirror_mode": {
    "name": "ipython",
    "version": 3
   },
   "file_extension": ".py",
   "mimetype": "text/x-python",
   "name": "python",
   "nbconvert_exporter": "python",
   "pygments_lexer": "ipython3",
   "version": "3.10.2"
  },
  "orig_nbformat": 4,
  "vscode": {
   "interpreter": {
    "hash": "2fc6efb3340bf4aae142c4471c3414bb5b17e6e80ba42a259676c40f0503db89"
   }
  }
 },
 "nbformat": 4,
 "nbformat_minor": 2
}
