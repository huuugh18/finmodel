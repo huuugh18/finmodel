{
 "cells": [
  {
   "cell_type": "code",
   "execution_count": 5,
   "metadata": {},
   "outputs": [],
   "source": [
    "import yfinance\n",
    "import math\n",
    "import numpy as np\n",
    "import matplotlib.pyplot as plt\n",
    "import pandas as pd\n",
    "import statsmodels.api as sm\n"
   ]
  },
  {
   "cell_type": "code",
   "execution_count": 3,
   "metadata": {},
   "outputs": [
    {
     "data": {
      "text/plain": [
       "<AxesSubplot:xlabel='Date'>"
      ]
     },
     "execution_count": 3,
     "metadata": {},
     "output_type": "execute_result"
    },
    {
     "data": {
      "image/png": "[encoded data removed]",
      "text/plain": [
       "<Figure size 432x288 with 1 Axes>"
      ]
     },
     "metadata": {
      "needs_background": "light"
     },
     "output_type": "display_data"
    }
   ],
   "source": [
    "def rmse(predicted, actual):\n",
    "    diffs = predicted - actual\n",
    "    return math.sqrt(np.mean(diffs**2))\n",
    "\n",
    "bac_ticker = yfinance.Ticker('BAC')\n",
    "bac_frame = bac_ticker.history(period='id', start='2021-01-01', end='2021-10-30')['Close'].to_frame()\n",
    "bac_frame.plot()"
   ]
  },
  {
   "cell_type": "code",
   "execution_count": 4,
   "metadata": {},
   "outputs": [
    {
     "name": "stdout",
     "output_type": "stream",
     "text": [
      "Date\n",
      "2021-01-04    29.151543\n",
      "2021-01-05    29.374815\n",
      "2021-01-06    31.209530\n",
      "2021-01-07    31.898762\n",
      "2021-01-08    31.578411\n",
      "                ...    \n",
      "2021-10-25    46.782906\n",
      "2021-10-26    47.226021\n",
      "2021-10-27    46.320099\n",
      "2021-10-28    47.048771\n",
      "2021-10-29    47.048771\n",
      "Name: Close, Length: 209, dtype: float64\n"
     ]
    }
   ],
   "source": [
    "series = bac_frame['Close']\n",
    "print(series)"
   ]
  },
  {
   "cell_type": "code",
   "execution_count": 7,
   "metadata": {},
   "outputs": [
    {
     "name": "stdout",
     "output_type": "stream",
     "text": [
      "Close.L1    1.030343\n",
      "Close.L2    0.008232\n",
      "Close.L3   -0.103910\n",
      "Close.L4    0.067175\n",
      "dtype: float64\n"
     ]
    }
   ],
   "source": [
    "ar_deg = 4\n",
    "model = sm.tsa.AutoReg(series.reset_index()['Close'], ar_deg, trend='n').fit()\n",
    "print(model.params)"
   ]
  },
  {
   "cell_type": "code",
   "execution_count": 8,
   "metadata": {},
   "outputs": [
    {
     "name": "stdout",
     "output_type": "stream",
     "text": [
      "[0.06717496198210805, -0.10391043987172735, 0.008232118997958435, 1.0303434624094945]\n"
     ]
    }
   ],
   "source": [
    "# coeffs in reverse order to have to reverse them back to what used to\n",
    "coeffs = list(reversed(model.params))\n",
    "print(coeffs)"
   ]
  },
  {
   "cell_type": "code",
   "execution_count": 9,
   "metadata": {},
   "outputs": [
    {
     "name": "stdout",
     "output_type": "stream",
     "text": [
      "0.595591972815344\n"
     ]
    }
   ],
   "source": [
    "# compute root mean square error as estimate of std\n",
    "\n",
    "std_dev = rmse(model.predict(), series.reset_index()['Close'])\n",
    "print(std_dev)"
   ]
  },
  {
   "cell_type": "code",
   "execution_count": 10,
   "metadata": {},
   "outputs": [],
   "source": [
    "# follow a number of trajectories, start with 5 and add more later\n",
    "# number of trajectories\n",
    "num_samples = 5"
   ]
  },
  {
   "cell_type": "code",
   "execution_count": 11,
   "metadata": {},
   "outputs": [
    {
     "data": {
      "text/plain": [
       "array([[45.57173157, 45.76866913, 46.36933517, 46.11331558, 46.84198761,\n",
       "        46.78290558, 47.22602081, 46.32009888, 47.0487709 , 47.0487709 ]])"
      ]
     },
     "execution_count": 11,
     "metadata": {},
     "output_type": "execute_result"
    }
   ],
   "source": [
    "# initial values of the each trajectory\n",
    "# each trajectory = a different row\n",
    "initial_values = np.array(series[-10:]).reshape(1,-1)\n",
    "initial_values"
   ]
  },
  {
   "cell_type": "code",
   "execution_count": null,
   "metadata": {},
   "outputs": [],
   "source": [
    "# need to make a 2-d array thas has num_sample copies of this row using numpy `broadcast_to`\n",
    "values = np.broadcast_to(initial_values, (num_samples, 10))"
   ]
  },
  {
   "cell_type": "code",
   "execution_count": null,
   "metadata": {},
   "outputs": [],
   "source": []
  }
 ],
 "metadata": {
  "kernelspec": {
   "display_name": "Python 3.10.2 64-bit",
   "language": "python",
   "name": "python3"
  },
  "language_info": {
   "codemirror_mode": {
    "name": "ipython",
    "version": 3
   },
   "file_extension": ".py",
   "mimetype": "text/x-python",
   "name": "python",
   "nbconvert_exporter": "python",
   "pygments_lexer": "ipython3",
   "version": "3.10.2"
  },
  "orig_nbformat": 4,
  "vscode": {
   "interpreter": {
    "hash": "2fc6efb3340bf4aae142c4471c3414bb5b17e6e80ba42a259676c40f0503db89"
   }
  }
 },
 "nbformat": 4,
 "nbformat_minor": 2
}
