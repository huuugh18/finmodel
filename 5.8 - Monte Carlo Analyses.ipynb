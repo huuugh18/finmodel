{
 "cells": [
  {
   "cell_type": "code",
   "execution_count": 1,
   "metadata": {},
   "outputs": [],
   "source": [
    "import yfinance\n",
    "import math\n",
    "import numpy as np\n",
    "import matplotlib.pyplot as plt\n",
    "import pandas as pd\n",
    "import statsmodels.api as sm\n"
   ]
  },
  {
   "cell_type": "code",
   "execution_count": 2,
   "metadata": {},
   "outputs": [
    {
     "data": {
      "text/plain": [
       "<AxesSubplot:xlabel='Date'>"
      ]
     },
     "execution_count": 2,
     "metadata": {},
     "output_type": "execute_result"
    },
    {
     "data": {
      "image/png": "[encoded data removed]",
      "text/plain": [
       "<Figure size 432x288 with 1 Axes>"
      ]
     },
     "metadata": {
      "needs_background": "light"
     },
     "output_type": "display_data"
    }
   ],
   "source": [
    "# RMSE CALCULATION\n",
    "def rmse(predicted, actual):\n",
    "    diffs = predicted - actual\n",
    "    return math.sqrt(np.mean(diffs**2))\n",
    "\n",
    "# Get data\n",
    "bac_ticker = yfinance.Ticker('BAC')\n",
    "bac_frame = bac_ticker.history(period='id', start='2021-01-01', end='2021-10-30')['Close'].to_frame()\n",
    "bac_frame.plot()"
   ]
  },
  {
   "cell_type": "code",
   "execution_count": 3,
   "metadata": {},
   "outputs": [],
   "source": [
    "series = bac_frame['Close']"
   ]
  },
  {
   "cell_type": "code",
   "execution_count": 4,
   "metadata": {},
   "outputs": [
    {
     "name": "stdout",
     "output_type": "stream",
     "text": [
      "Close.L1    1.030344\n",
      "Close.L2    0.008231\n",
      "Close.L3   -0.103911\n",
      "Close.L4    0.067175\n",
      "dtype: float64\n"
     ]
    }
   ],
   "source": [
    "ar_deg = 4\n",
    "model = sm.tsa.AutoReg(series.reset_index()['Close'], ar_deg, trend='n').fit()\n",
    "print(model.params)"
   ]
  },
  {
   "cell_type": "code",
   "execution_count": 5,
   "metadata": {},
   "outputs": [
    {
     "name": "stdout",
     "output_type": "stream",
     "text": [
      "[0.06717523421664759, -0.10391053305586012, 0.008231235442443557, 1.030344166441136] 4\n"
     ]
    }
   ],
   "source": [
    "# coeffs in reverse order to have to reverse them back to what used to\n",
    "coeffs = list(reversed(model.params))\n",
    "num_coeffs = len(coeffs)\n",
    "\n",
    "\n",
    "print(coeffs, num_coeffs)"
   ]
  },
  {
   "cell_type": "code",
   "execution_count": 6,
   "metadata": {},
   "outputs": [
    {
     "name": "stdout",
     "output_type": "stream",
     "text": [
      "0.5955918718082472\n"
     ]
    }
   ],
   "source": [
    "# compute root mean square error as estimate of std\n",
    "\n",
    "std_dev = rmse(model.predict(), series.reset_index()['Close'])\n",
    "print(std_dev)"
   ]
  },
  {
   "cell_type": "code",
   "execution_count": 7,
   "metadata": {},
   "outputs": [],
   "source": [
    "# follow a number of trajectories, start with 5 and add more later\n",
    "# number of trajectories\n",
    "num_samples = 5"
   ]
  },
  {
   "cell_type": "code",
   "execution_count": 8,
   "metadata": {},
   "outputs": [
    {
     "data": {
      "text/plain": [
       "array([[45.57173157, 45.76867294, 46.36933517, 46.11331558, 46.84198761,\n",
       "        46.78290558, 47.22602081, 46.32010269, 47.0487709 , 47.0487709 ]])"
      ]
     },
     "execution_count": 8,
     "metadata": {},
     "output_type": "execute_result"
    }
   ],
   "source": [
    "# initial values of the each trajectory\n",
    "# each trajectory = a different row\n",
    "initial_values = np.array(series[-10:]).reshape(1,-1)\n",
    "initial_values"
   ]
  },
  {
   "cell_type": "code",
   "execution_count": 9,
   "metadata": {},
   "outputs": [],
   "source": [
    "# need to make a 2-d array thas has num_sample copies of this row using numpy `broadcast_to`\n",
    "values = np.broadcast_to(initial_values, (num_samples, 10))"
   ]
  },
  {
   "cell_type": "code",
   "execution_count": 12,
   "metadata": {},
   "outputs": [
    {
     "ename": "ValueError",
     "evalue": "matmul: Input operand 1 has a mismatch in its core dimension 0, with gufunc signature (n?,k),(k,m?)->(n?,m?) (size 4 is different from 10)",
     "output_type": "error",
     "traceback": [
      "\u001b[1;31m---------------------------------------------------------------------------\u001b[0m",
      "\u001b[1;31mValueError\u001b[0m                                Traceback (most recent call last)",
      "\u001b[1;32mc:\\Users\\hugho\\Documents\\datascience\\finmodel\\5.8 - Monte Carlo Analyses.ipynb Cell 10\u001b[0m in \u001b[0;36m<cell line: 3>\u001b[1;34m()\u001b[0m\n\u001b[0;32m      <a href='vscode-notebook-cell:/c%3A/Users/hugho/Documents/datascience/finmodel/5.8%20-%20Monte%20Carlo%20Analyses.ipynb#X12sZmlsZQ%3D%3D?line=0'>1</a>\u001b[0m trajectory_length \u001b[39m=\u001b[39m \u001b[39m50\u001b[39m\n\u001b[0;32m      <a href='vscode-notebook-cell:/c%3A/Users/hugho/Documents/datascience/finmodel/5.8%20-%20Monte%20Carlo%20Analyses.ipynb#X12sZmlsZQ%3D%3D?line=2'>3</a>\u001b[0m \u001b[39mfor\u001b[39;00m i \u001b[39min\u001b[39;00m \u001b[39mrange\u001b[39m(trajectory_length):\n\u001b[1;32m----> <a href='vscode-notebook-cell:/c%3A/Users/hugho/Documents/datascience/finmodel/5.8%20-%20Monte%20Carlo%20Analyses.ipynb#X12sZmlsZQ%3D%3D?line=3'>4</a>\u001b[0m     next_prediction \u001b[39m=\u001b[39m values[\u001b[39m-\u001b[39;49mnum_coeffs:,:] \u001b[39m@\u001b[39;49m coeffs \n\u001b[0;32m      <a href='vscode-notebook-cell:/c%3A/Users/hugho/Documents/datascience/finmodel/5.8%20-%20Monte%20Carlo%20Analyses.ipynb#X12sZmlsZQ%3D%3D?line=4'>5</a>\u001b[0m     next_column \u001b[39m=\u001b[39m next_prediction \u001b[39m+\u001b[39m std_dev \u001b[39m*\u001b[39m np\u001b[39m.\u001b[39mrandom\u001b[39m.\u001b[39mrandn(num_samples)\n\u001b[0;32m      <a href='vscode-notebook-cell:/c%3A/Users/hugho/Documents/datascience/finmodel/5.8%20-%20Monte%20Carlo%20Analyses.ipynb#X12sZmlsZQ%3D%3D?line=5'>6</a>\u001b[0m     values \u001b[39m=\u001b[39m np\u001b[39m.\u001b[39mappend(values, next_column\u001b[39m.\u001b[39mreshape(\u001b[39m1\u001b[39m, num_samples), axis\u001b[39m=\u001b[39m\u001b[39m0\u001b[39m)\n",
      "\u001b[1;31mValueError\u001b[0m: matmul: Input operand 1 has a mismatch in its core dimension 0, with gufunc signature (n?,k),(k,m?)->(n?,m?) (size 4 is different from 10)"
     ]
    }
   ],
   "source": [
    "trajectory_length = 50\n",
    "\n",
    "for i in range(trajectory_length):\n",
    "    next_prediction = values[-num_coeffs:,:] @ coeffs \n",
    "    next_column = next_prediction + std_dev * np.random.randn(num_samples)\n",
    "    values = np.append(values, next_column.reshape(1, num_samples), axis=0)\n",
    "_=plt.plot(values)"
   ]
  }
 ],
 "metadata": {
  "kernelspec": {
   "display_name": "Python 3.10.2 64-bit",
   "language": "python",
   "name": "python3"
  },
  "language_info": {
   "codemirror_mode": {
    "name": "ipython",
    "version": 3
   },
   "file_extension": ".py",
   "mimetype": "text/x-python",
   "name": "python",
   "nbconvert_exporter": "python",
   "pygments_lexer": "ipython3",
   "version": "3.10.2"
  },
  "orig_nbformat": 4,
  "vscode": {
   "interpreter": {
    "hash": "2fc6efb3340bf4aae142c4471c3414bb5b17e6e80ba42a259676c40f0503db89"
   }
  }
 },
 "nbformat": 4,
 "nbformat_minor": 2
}
