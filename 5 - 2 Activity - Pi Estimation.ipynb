{
 "cells": [
  {
   "cell_type": "code",
   "execution_count": null,
   "metadata": {},
   "outputs": [],
   "source": [
    "import numpy as np\n",
    "import matplotlib.pyplot as plt\n",
    "import pandas as pd\n",
    "plt.rcParams['figure.figsize'] = [6,6]\n",
    "\n",
    "num_samples = 5000\n",
    "xs = np.random.random(num_samples)\n",
    "ys = np.random.random(num_samples)\n",
    "\n",
    "# square of distance between origin and point\n",
    "dist_sq = xs**2 + ys**2\n",
    "\n",
    "# check if in circle\n",
    "# less than 1 in circle, greater than 1 outside circle\n",
    "# dist_sq = array, checking all values, True or False\n",
    "test_in_circle = (dist_sq < 1)\n"
   ]
  },
  {
   "cell_type": "markdown",
   "metadata": {},
   "source": [
    "We wish to estimate the area under the graph y =sin(x) between x =o and x = pi.\n",
    "\n",
    "As follows: imagine throwing darts at a box that is pi long and 1 high. Some of the darts will fall under the graph and some not. The percentage that land in the box will estimate the percentage of the area that is under the graph. Given that the area of the whole box is pi, you will multiply the percentage by pi to get your estimate. Your job is to program this in Python and tell us the answer."
   ]
  }
 ],
 "metadata": {
  "kernelspec": {
   "display_name": "Python 3.10.2 64-bit",
   "language": "python",
   "name": "python3"
  },
  "language_info": {
   "name": "python",
   "version": "3.10.2"
  },
  "orig_nbformat": 4,
  "vscode": {
   "interpreter": {
    "hash": "2fc6efb3340bf4aae142c4471c3414bb5b17e6e80ba42a259676c40f0503db89"
   }
  }
 },
 "nbformat": 4,
 "nbformat_minor": 2
}
