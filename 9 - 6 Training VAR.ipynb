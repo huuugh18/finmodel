{
 "cells": [
  {
   "cell_type": "code",
   "execution_count": 1,
   "metadata": {},
   "outputs": [],
   "source": [
    "import pandas as pd\n",
    "import matplotlib\n",
    "import math\n",
    "import numpy as np\n",
    "import statsmodels.api as sm\n",
    "\n",
    "def linear_regression(design_matrix, target_vector):\n",
    "    return np.linalg.inv(design_matrix.transpose() @ design_matrix) @ design_matrix.transpose() @ target_vector"
   ]
  },
  {
   "cell_type": "code",
   "execution_count": 2,
   "metadata": {},
   "outputs": [],
   "source": [
    "col1 = [0,1,2,3,4,5,6]\n",
    "col2 = [10,11,12,13,14,15,16]\n",
    "col3 = [20,21,22,23,24,25,26]\n",
    "test_df = pd.DataFrame({'a':col1, 'b':col2, 'c':col3})"
   ]
  },
  {
   "cell_type": "markdown",
   "metadata": {},
   "source": [
    "The code essentially loops through the different series, performing an AR on each one.   \n",
    "\n",
    "Used to have a vector of parameters now have a matrix of parameters  \n",
    "One row for each series\n",
    "\n",
    "all have different coefficients but all have the same inputs, depending on the lags\n",
    "\n",
    "design matrix the same for each series, but target vector will be different\n",
    "\n",
    "\n"
   ]
  },
  {
   "cell_type": "code",
   "execution_count": 33,
   "metadata": {},
   "outputs": [],
   "source": [
    "def train_var(df, order):\n",
    "    param_rows = []\n",
    "    dmnum = 0\n",
    "    # loop through each series, doing AR on each one\n",
    "    for column in df.columns:\n",
    "        # first p (order) elements are missing \n",
    "        target_vector = np.array(df[column][order:])\n",
    "        # print(target_vector)\n",
    "        \n",
    "        lagged_values = []\n",
    "        # make design matrices\n",
    "        for i in range(len(df[column]) - order):\n",
    "            # start with 0's\n",
    "            design_row = np.zeros(0)\n",
    "            \n",
    "            for param_col in df.columns:\n",
    "                design_row = np.append(design_row, df[param_col][i:i+order])\n",
    "            # get each row of lagged values for order 2 = 2 values from each series\n",
    "            # print(design_row) => [0,1,10,11,20,21]\n",
    "            lagged_values.append(design_row)\n",
    "        design_matrix = np.array(lagged_values)\n",
    "        # print('DESIGN MATRIX:', design_matrix)\n",
    "        param_rows.append(linear_regression(design_matrix, target_vector))\n",
    "    return np.array(param_rows)\n",
    "    \n",
    "\n",
    "# train_var(test_df, 3)"
   ]
  },
  {
   "cell_type": "code",
   "execution_count": null,
   "metadata": {},
   "outputs": [],
   "source": []
  },
  {
   "cell_type": "markdown",
   "metadata": {},
   "source": [
    "## Real Data\n",
    "British GDP vs Job Vacancies\n",
    "Couldn't find data\n",
    "Imported different ones"
   ]
  },
  {
   "cell_type": "code",
   "execution_count": 26,
   "metadata": {},
   "outputs": [],
   "source": [
    "df = pd.read_csv('./data/M2SLMoneyStock.csv')\n",
    "df2 = pd.read_csv('./data/PCEPersonalSpending.csv')\n"
   ]
  },
  {
   "cell_type": "code",
   "execution_count": 27,
   "metadata": {},
   "outputs": [],
   "source": [
    "df = df.set_index('Date').join(df2.set_index('Date'))"
   ]
  },
  {
   "cell_type": "code",
   "execution_count": 105,
   "metadata": {},
   "outputs": [
    {
     "data": {
      "text/plain": [
       "array([[-0.08678108,  0.03802285, -0.09820925,  1.14791166,  0.04420334,\n",
       "         0.05015833,  0.02024647, -0.11148272],\n",
       "       [ 0.08357758,  0.00364851, -0.2489073 ,  0.15897149, -0.11556855,\n",
       "        -0.04850428,  0.12608193,  1.04256798]])"
      ]
     },
     "execution_count": 105,
     "metadata": {},
     "output_type": "execute_result"
    }
   ],
   "source": [
    "order = 4\n",
    "df_test = df[100:116]\n",
    "\n",
    "var_params = train_var(df,order)\n",
    "var_params"
   ]
  },
  {
   "cell_type": "markdown",
   "metadata": {},
   "source": [
    "Have 2 rows = 1 for each series\n",
    "Each row has 6 parameters = 2 series * 3 order = 6\n",
    "\n",
    "\n",
    "## Prediction\n",
    "\n"
   ]
  },
  {
   "cell_type": "code",
   "execution_count": 106,
   "metadata": {},
   "outputs": [
    {
     "data": {
      "text/html": [
       "<div>\n",
       "<style scoped>\n",
       "    .dataframe tbody tr th:only-of-type {\n",
       "        vertical-align: middle;\n",
       "    }\n",
       "\n",
       "    .dataframe tbody tr th {\n",
       "        vertical-align: top;\n",
       "    }\n",
       "\n",
       "    .dataframe thead th {\n",
       "        text-align: right;\n",
       "    }\n",
       "</style>\n",
       "<table border=\"1\" class=\"dataframe\">\n",
       "  <thead>\n",
       "    <tr style=\"text-align: right;\">\n",
       "      <th></th>\n",
       "      <th>Money</th>\n",
       "      <th>Spending</th>\n",
       "    </tr>\n",
       "  </thead>\n",
       "  <tbody>\n",
       "    <tr>\n",
       "      <th>0</th>\n",
       "      <td>NaN</td>\n",
       "      <td>NaN</td>\n",
       "    </tr>\n",
       "    <tr>\n",
       "      <th>1</th>\n",
       "      <td>NaN</td>\n",
       "      <td>NaN</td>\n",
       "    </tr>\n",
       "    <tr>\n",
       "      <th>2</th>\n",
       "      <td>NaN</td>\n",
       "      <td>NaN</td>\n",
       "    </tr>\n",
       "    <tr>\n",
       "      <th>3</th>\n",
       "      <td>NaN</td>\n",
       "      <td>NaN</td>\n",
       "    </tr>\n",
       "    <tr>\n",
       "      <th>4</th>\n",
       "      <td>3515.022509</td>\n",
       "      <td>4910.327952</td>\n",
       "    </tr>\n",
       "  </tbody>\n",
       "</table>\n",
       "</div>"
      ],
      "text/plain": [
       "         Money     Spending\n",
       "0          NaN          NaN\n",
       "1          NaN          NaN\n",
       "2          NaN          NaN\n",
       "3          NaN          NaN\n",
       "4  3515.022509  4910.327952"
      ]
     },
     "execution_count": 106,
     "metadata": {},
     "output_type": "execute_result"
    }
   ],
   "source": [
    "def predict_var(df, params):\n",
    "    # compute the order of the VAR\n",
    "    # divide cols (k*p) params by rows (p)\n",
    "    order = params.shape[1] // params.shape[0]\n",
    "\n",
    "    # create empty DF\n",
    "    results = pd.DataFrame() \n",
    "\n",
    "    # outer loop - everything within it done to do predictions for all cols\n",
    "    for column_num, column in enumerate(df.columns):\n",
    "        # set first order numbers to nan as can't predict\n",
    "        predicted_values = [math.nan]*order\n",
    "\n",
    "        # inner loop\n",
    "        for i in range(len(df[column]) - order):\n",
    "            lags = np.zeros(0)\n",
    "            # get order amount of lag values from the series column\n",
    "            for param_column in df.columns:\n",
    "                lags = np.append(lags, df[param_column][i : i + order])\n",
    "                # print('take lags from ', param_column, 'to predict', column, lags)\n",
    "\n",
    "            # Get predictions: combine lags and coefficients by dot product\n",
    "            predicted_values.append(np.dot(lags, params[column_num, :]))\n",
    "            # print(params[column_num, :])\n",
    "        # add to results df\n",
    "        results[column] = predicted_values\n",
    "    return results\n",
    "\n",
    "\n",
    "predictions = predict_var(df, var_params)\n",
    "predictions.head()"
   ]
  },
  {
   "cell_type": "code",
   "execution_count": 107,
   "metadata": {},
   "outputs": [],
   "source": [
    "def rmse(predicted, actual):\n",
    "    # print(predicted, actual)1\n",
    "    diffs = predicted - actual\n",
    "    # print(diffs)\n",
    "    return math.sqrt(np.mean(diffs ** 2))\n",
    "    "
   ]
  },
  {
   "cell_type": "code",
   "execution_count": 112,
   "metadata": {},
   "outputs": [
    {
     "name": "stdout",
     "output_type": "stream",
     "text": [
      "VAR(4) Spending rmse 33.79412621383513\n",
      "VAR(4) Money rmse 25.54172842969896\n"
     ]
    },
    {
     "data": {
      "text/plain": [
       "<AxesSubplot:>"
      ]
     },
     "execution_count": 112,
     "metadata": {},
     "output_type": "execute_result"
    },
    {
     "data": {
      "image/png": "[encoded data removed]",
      "text/plain": [
       "<Figure size 432x288 with 1 Axes>"
      ]
     },
     "metadata": {
      "needs_background": "light"
     },
     "output_type": "display_data"
    }
   ],
   "source": [
    "new_df = df.copy()\n",
    "new_df = new_df.reset_index()\n",
    "new_df = new_df.drop(['Date'], axis=1)\n",
    "# new_df['Pred_Money'] = predictions['Money']\n",
    "# new_df['Pred_Spending'] = predictions['Spending']\n",
    "\n",
    "print(\"VAR(4) Spending rmse\", rmse(new_df['Spending'], predictions['Spending']))\n",
    "print(\"VAR(4) Money rmse\", rmse(new_df['Money'], predictions['Money']))\n",
    "\n",
    "\n",
    "predictions.plot()"
   ]
  },
  {
   "cell_type": "code",
   "execution_count": 88,
   "metadata": {},
   "outputs": [
    {
     "data": {
      "text/plain": [
       "<AxesSubplot:>"
      ]
     },
     "execution_count": 88,
     "metadata": {},
     "output_type": "execute_result"
    },
    {
     "data": {
      "image/png": "[encoded data removed]",
      "text/plain": [
       "<Figure size 432x288 with 1 Axes>"
      ]
     },
     "metadata": {
      "needs_background": "light"
     },
     "output_type": "display_data"
    }
   ],
   "source": [
    "new_df.plot()"
   ]
  },
  {
   "cell_type": "markdown",
   "metadata": {},
   "source": [
    "### Plot differences\n",
    "This is the error, want them to hover around 0  \n",
    "Can see here the error starts to trend for both of them"
   ]
  },
  {
   "cell_type": "code",
   "execution_count": 87,
   "metadata": {},
   "outputs": [
    {
     "data": {
      "text/plain": [
       "<AxesSubplot:>"
      ]
     },
     "execution_count": 87,
     "metadata": {},
     "output_type": "execute_result"
    },
    {
     "data": {
      "image/png": "[encoded data removed]",
      "text/plain": [
       "<Figure size 432x288 with 1 Axes>"
      ]
     },
     "metadata": {
      "needs_background": "light"
     },
     "output_type": "display_data"
    }
   ],
   "source": [
    "(predictions - new_df).plot()"
   ]
  },
  {
   "cell_type": "markdown",
   "metadata": {},
   "source": [
    "## Compare results to an AR model alone"
   ]
  },
  {
   "cell_type": "code",
   "execution_count": 109,
   "metadata": {},
   "outputs": [],
   "source": [
    "df_spending = new_df['Spending']\n",
    "df_money = new_df['Money']"
   ]
  },
  {
   "cell_type": "code",
   "execution_count": 110,
   "metadata": {},
   "outputs": [],
   "source": [
    "def train_ar(values, order):\n",
    "    target_vector = np.array(values[order:])\n",
    "    lagged_values = []\n",
    "    for i in range(len(values) - order):\n",
    "        lagged_values.append(values[i:i+order])\n",
    "    design_matrix = np.array(lagged_values)\n",
    "    return linear_regression(design_matrix, target_vector)\n",
    "\n",
    "def predict(coeffs, data):\n",
    "    predicted_values = [math.nan] * len(coeffs)\n",
    "    for i in range(len(coeffs), len(data)):\n",
    "        predicted_values.append(np.dot(coeffs, data[i-len(coeffs):i]))\n",
    "    return np.array(predicted_values)"
   ]
  },
  {
   "cell_type": "code",
   "execution_count": 114,
   "metadata": {},
   "outputs": [
    {
     "name": "stdout",
     "output_type": "stream",
     "text": [
      "VAR(4) Spending rmse 33.79412621383513\n",
      "AR(4) Spending model rmse 34.22652521137028\n",
      "VAR(4) Money rmse 25.54172842969896\n",
      "AR(4) Money model rmse 26.09486639534869\n"
     ]
    }
   ],
   "source": [
    "spending_predict_ar4 = predict(train_ar(new_df['Spending'], 4), new_df['Spending'])\n",
    "money_predict_ar4 = predict(train_ar(new_df['Money'], 4), new_df['Money'])\n",
    "print(\"VAR(4) Spending rmse\", rmse(new_df['Spending'], predictions['Spending']))\n",
    "print('AR(4) Spending model rmse', rmse(spending_predict_ar4, new_df['Spending']))\n",
    "print(\"VAR(4) Money rmse\", rmse(new_df['Money'], predictions['Money']))\n",
    "print('AR(4) Money model rmse', rmse(money_predict_ar4, new_df['Money']))"
   ]
  },
  {
   "cell_type": "markdown",
   "metadata": {},
   "source": [
    "In this case VAR(4) model wins out"
   ]
  },
  {
   "cell_type": "markdown",
   "metadata": {},
   "source": [
    "## Using Stats Models\n",
    "\n",
    "Using AR model first"
   ]
  },
  {
   "cell_type": "code",
   "execution_count": 98,
   "metadata": {},
   "outputs": [
    {
     "name": "stdout",
     "output_type": "stream",
     "text": [
      "AR(4) spending model rmse 34.22652521137028\n",
      "AR(4) money model rmse 26.094866395348724\n"
     ]
    }
   ],
   "source": [
    "import statsmodels.api as sm\n",
    "spending_model = sm.tsa.AutoReg(new_df['Spending'], lags=4, trend='n').fit()\n",
    "money_model = sm.tsa.AutoReg(new_df['Money'], lags=4, trend='n').fit()\n",
    "\n",
    "print('AR(4) spending model rmse', rmse(spending_model.predict(), new_df['Spending']))\n",
    "print('AR(4) money model rmse', rmse(money_model.predict(), new_df['Money']))"
   ]
  },
  {
   "cell_type": "code",
   "execution_count": 115,
   "metadata": {},
   "outputs": [
    {
     "name": "stdout",
     "output_type": "stream",
     "text": [
      "VAR model SPENDING rmse 33.79412621383522\n",
      "VAR model Money rmse 25.541728429698818\n"
     ]
    },
    {
     "data": {
      "text/html": [
       "<div>\n",
       "<style scoped>\n",
       "    .dataframe tbody tr th:only-of-type {\n",
       "        vertical-align: middle;\n",
       "    }\n",
       "\n",
       "    .dataframe tbody tr th {\n",
       "        vertical-align: top;\n",
       "    }\n",
       "\n",
       "    .dataframe thead th {\n",
       "        text-align: right;\n",
       "    }\n",
       "</style>\n",
       "<table border=\"1\" class=\"dataframe\">\n",
       "  <thead>\n",
       "    <tr style=\"text-align: right;\">\n",
       "      <th></th>\n",
       "      <th>Spending</th>\n",
       "      <th>Money</th>\n",
       "    </tr>\n",
       "  </thead>\n",
       "  <tbody>\n",
       "    <tr>\n",
       "      <th>L1.Spending</th>\n",
       "      <td>1.042568</td>\n",
       "      <td>-0.111483</td>\n",
       "    </tr>\n",
       "    <tr>\n",
       "      <th>L1.Money</th>\n",
       "      <td>0.158971</td>\n",
       "      <td>1.147912</td>\n",
       "    </tr>\n",
       "    <tr>\n",
       "      <th>L2.Spending</th>\n",
       "      <td>0.126082</td>\n",
       "      <td>0.020246</td>\n",
       "    </tr>\n",
       "    <tr>\n",
       "      <th>L2.Money</th>\n",
       "      <td>-0.248907</td>\n",
       "      <td>-0.098209</td>\n",
       "    </tr>\n",
       "    <tr>\n",
       "      <th>L3.Spending</th>\n",
       "      <td>-0.048504</td>\n",
       "      <td>0.050158</td>\n",
       "    </tr>\n",
       "    <tr>\n",
       "      <th>L3.Money</th>\n",
       "      <td>0.003649</td>\n",
       "      <td>0.038023</td>\n",
       "    </tr>\n",
       "    <tr>\n",
       "      <th>L4.Spending</th>\n",
       "      <td>-0.115569</td>\n",
       "      <td>0.044203</td>\n",
       "    </tr>\n",
       "    <tr>\n",
       "      <th>L4.Money</th>\n",
       "      <td>0.083578</td>\n",
       "      <td>-0.086781</td>\n",
       "    </tr>\n",
       "  </tbody>\n",
       "</table>\n",
       "</div>"
      ],
      "text/plain": [
       "             Spending     Money\n",
       "L1.Spending  1.042568 -0.111483\n",
       "L1.Money     0.158971  1.147912\n",
       "L2.Spending  0.126082  0.020246\n",
       "L2.Money    -0.248907 -0.098209\n",
       "L3.Spending -0.048504  0.050158\n",
       "L3.Money     0.003649  0.038023\n",
       "L4.Spending -0.115569  0.044203\n",
       "L4.Money     0.083578 -0.086781"
      ]
     },
     "execution_count": 115,
     "metadata": {},
     "output_type": "execute_result"
    }
   ],
   "source": [
    "var_model = sm.tsa.VAR(new_df[['Spending', 'Money']]).fit(4,trend='n')\n",
    "\n",
    "print('VAR model SPENDING rmse', rmse(var_model.resid['Spending'],0))\n",
    "print('VAR model Money rmse', rmse(var_model.resid['Money'],0))\n",
    "\n",
    "var_model.params"
   ]
  },
  {
   "cell_type": "markdown",
   "metadata": {},
   "source": []
  }
 ],
 "metadata": {
  "kernelspec": {
   "display_name": "Python 3.10.2 64-bit",
   "language": "python",
   "name": "python3"
  },
  "language_info": {
   "codemirror_mode": {
    "name": "ipython",
    "version": 3
   },
   "file_extension": ".py",
   "mimetype": "text/x-python",
   "name": "python",
   "nbconvert_exporter": "python",
   "pygments_lexer": "ipython3",
   "version": "3.10.2"
  },
  "orig_nbformat": 4,
  "vscode": {
   "interpreter": {
    "hash": "2fc6efb3340bf4aae142c4471c3414bb5b17e6e80ba42a259676c40f0503db89"
   }
  }
 },
 "nbformat": 4,
 "nbformat_minor": 2
}
