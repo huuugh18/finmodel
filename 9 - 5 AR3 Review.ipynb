{
 "cells": [
  {
   "cell_type": "markdown",
   "metadata": {},
   "source": [
    "## Review of AR(3)\n"
   ]
  },
  {
   "cell_type": "code",
   "execution_count": 3,
   "metadata": {},
   "outputs": [],
   "source": [
    "import numpy as np\n",
    "import statsmodels.api as sm\n",
    "\n",
    "def linear_regression(design_matrix, target_vector):\n",
    "    return np.linalg.inv(design_matrix.transpose() @ design_matrix) @ design_matrix.transpose() @ target_vector"
   ]
  },
  {
   "cell_type": "code",
   "execution_count": 6,
   "metadata": {},
   "outputs": [],
   "source": [
    "test_values = np.array([0,1,2,3,4,5,6])"
   ]
  },
  {
   "cell_type": "code",
   "execution_count": 4,
   "metadata": {},
   "outputs": [],
   "source": [
    "def train_ar(values, order):\n",
    "    # almost all of the observed values excluding the values that come before the order\n",
    "    # so for ar(3) model start at 3 because skipping 0,1,2 as need these to predict 3\n",
    "    target_vector = np.array(values[order:])\n",
    "    \n",
    "    # rows length = target vector = length of values - order\n",
    "    lagged_values = []\n",
    "    for i in range(len(values) - order):\n",
    "        # length of order\n",
    "        lagged_values.append(values[i:i+order])\n",
    "    # rows = length same as y\n",
    "    # columns = order\n",
    "    design_matrix = np.array(lagged_values)\n",
    "    print(design_matrix)\n",
    "\n",
    "    return linear_regression(design_matrix, target_vector)"
   ]
  },
  {
   "cell_type": "code",
   "execution_count": 12,
   "metadata": {},
   "outputs": [
    {
     "name": "stdout",
     "output_type": "stream",
     "text": [
      "[[0 1]\n",
      " [1 2]\n",
      " [2 3]\n",
      " [3 4]\n",
      " [4 5]]\n",
      "[-1.  2.]\n"
     ]
    }
   ],
   "source": [
    "coeffs_test = (train_ar(test_values, 2))\n",
    "print(coeffs_test)"
   ]
  },
  {
   "cell_type": "markdown",
   "metadata": {},
   "source": [
    "Now predict by taking the coefficients and multiplying by lag values and add them up to get new value\n",
    "That's how AR(p) works\n",
    "Dot product does product in place then adds them up"
   ]
  },
  {
   "cell_type": "code",
   "execution_count": 15,
   "metadata": {},
   "outputs": [
    {
     "name": "stdout",
     "output_type": "stream",
     "text": [
      "[nan, nan, 2.0000000000000027, 2.999999999999991, 3.9999999999999796, 4.999999999999968, 5.999999999999957, 6.999999999999945, 7.9999999999999325, 8.999999999999922, 9.999999999999911, 10.9999999999999]\n",
      "[nan nan  2.  3.  4.  5.  6.  7.  8.  9. 10. 11.]\n"
     ]
    }
   ],
   "source": [
    "import math\n",
    "def predict(coeffs, data):\n",
    "    # create  empty set of values = order\n",
    "    # because ar(2) model will have 2 nan numbers to start as can't predict those\n",
    "    predicted_values = [math.nan] * len(coeffs)\n",
    "\n",
    "    for i in range(len(coeffs), len(data)):\n",
    "        predicted_values.append(np.dot(coeffs, data[i-len(coeffs):i]))\n",
    "    # convert to numpy array which rounds them\n",
    "    return np.array(predicted_values)\n",
    "\n",
    "pred_test = predict(coeffs_test, [0,1,2,3,4,5,6,7,8,9,10,11])\n",
    "print(pred_test)"
   ]
  }
 ],
 "metadata": {
  "kernelspec": {
   "display_name": "Python 3.10.2 64-bit",
   "language": "python",
   "name": "python3"
  },
  "language_info": {
   "codemirror_mode": {
    "name": "ipython",
    "version": 3
   },
   "file_extension": ".py",
   "mimetype": "text/x-python",
   "name": "python",
   "nbconvert_exporter": "python",
   "pygments_lexer": "ipython3",
   "version": "3.10.2"
  },
  "orig_nbformat": 4,
  "vscode": {
   "interpreter": {
    "hash": "2fc6efb3340bf4aae142c4471c3414bb5b17e6e80ba42a259676c40f0503db89"
   }
  }
 },
 "nbformat": 4,
 "nbformat_minor": 2
}
